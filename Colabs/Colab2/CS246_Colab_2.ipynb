{
  "nbformat": 4,
  "nbformat_minor": 0,
  "metadata": {
    "colab": {
      "name": "CS246 - Colab 2.ipynb",
      "provenance": [],
      "collapsed_sections": []
    },
    "kernelspec": {
      "name": "python3",
      "display_name": "Python 3"
    }
  },
  "cells": [
    {
      "cell_type": "markdown",
      "metadata": {
        "id": "kPt5q27L5557"
      },
      "source": [
        "# CS246 - Colab 2\n",
        "## Frequent Pattern Mining in Spark"
      ]
    },
    {
      "cell_type": "markdown",
      "metadata": {
        "id": "p0-YhEpP_Ds-"
      },
      "source": [
        "### Setup"
      ]
    },
    {
      "cell_type": "markdown",
      "metadata": {
        "id": "Zsj5WYpR9QId"
      },
      "source": [
        "Let's setup Spark on your Colab environment.  Run the cell below!"
      ]
    },
    {
      "cell_type": "code",
      "metadata": {
        "id": "k-qHai2252mI",
        "colab": {
          "base_uri": "https://localhost:8080/"
        },
        "outputId": "46d31fc1-19a2-493e-94cb-4c7461315a24"
      },
      "source": [
        "!pip install pyspark\n",
        "!pip install -U -q PyDrive\n",
        "!apt install openjdk-8-jdk-headless -qq\n",
        "import os\n",
        "os.environ[\"JAVA_HOME\"] = \"/usr/lib/jvm/java-8-openjdk-amd64\""
      ],
      "execution_count": 70,
      "outputs": [
        {
          "output_type": "stream",
          "text": [
            "Requirement already satisfied: pyspark in /usr/local/lib/python3.7/dist-packages (3.1.1)\n",
            "Requirement already satisfied: py4j==0.10.9 in /usr/local/lib/python3.7/dist-packages (from pyspark) (0.10.9)\n",
            "openjdk-8-jdk-headless is already the newest version (8u282-b08-0ubuntu1~18.04).\n",
            "0 upgraded, 0 newly installed, 0 to remove and 31 not upgraded.\n"
          ],
          "name": "stdout"
        }
      ]
    },
    {
      "cell_type": "markdown",
      "metadata": {
        "id": "-CJ71AKe91eh"
      },
      "source": [
        "Now we authenticate a Google Drive client to download the file we will be processing in our Spark job.\n",
        "\n",
        "**Make sure to follow the interactive instructions.**"
      ]
    },
    {
      "cell_type": "code",
      "metadata": {
        "id": "5K93ABEy9Zlo"
      },
      "source": [
        "from pydrive.auth import GoogleAuth\n",
        "from pydrive.drive import GoogleDrive\n",
        "from google.colab import auth\n",
        "from oauth2client.client import GoogleCredentials\n",
        "\n",
        "# Authenticate and create the PyDrive client\n",
        "auth.authenticate_user()\n",
        "gauth = GoogleAuth()\n",
        "gauth.credentials = GoogleCredentials.get_application_default()\n",
        "drive = GoogleDrive(gauth)"
      ],
      "execution_count": 71,
      "outputs": []
    },
    {
      "cell_type": "code",
      "metadata": {
        "id": "0orRvrc1-545"
      },
      "source": [
        "id='1dhi1F78ssqR8gE6U-AgB80ZW7V_9snX4'\n",
        "downloaded = drive.CreateFile({'id': id})\n",
        "downloaded.GetContentFile('products.csv')\n",
        "\n",
        "id='1KZBNEaIyMTcsRV817us6uLZgm-Mii8oU'\n",
        "downloaded = drive.CreateFile({'id': id})\n",
        "downloaded.GetContentFile('order_products__train.csv')"
      ],
      "execution_count": 72,
      "outputs": []
    },
    {
      "cell_type": "markdown",
      "metadata": {
        "id": "qwtlO4_m_LbQ"
      },
      "source": [
        "If you executed the cells above, you should be able to see the dataset we will need for this Colab under the \"Files\" tab on the left panel."
      ]
    },
    {
      "cell_type": "code",
      "metadata": {
        "id": "twk-K-jilWK7"
      },
      "source": [
        "import pandas as pd\n",
        "import numpy as np\n",
        "import matplotlib.pyplot as plt\n",
        "%matplotlib inline\n",
        "\n",
        "import pyspark\n",
        "from pyspark.sql import *\n",
        "from pyspark.sql.functions import *\n",
        "from pyspark import SparkContext, SparkConf"
      ],
      "execution_count": 73,
      "outputs": []
    },
    {
      "cell_type": "markdown",
      "metadata": {
        "id": "dr-8fK-1lmY0"
      },
      "source": [
        "Let's initialize the Spark context."
      ]
    },
    {
      "cell_type": "code",
      "metadata": {
        "id": "UOwtm2l7lePt"
      },
      "source": [
        "sc = SparkContext.getOrCreate()\n",
        "sc.stop()\n",
        "\n",
        "# create the session\n",
        "conf = SparkConf().set(\"spark.ui.port\", \"4050\")\n",
        "\n",
        "# create the context\n",
        "sc = pyspark.SparkContext(conf=conf)\n",
        "spark = SparkSession.builder.getOrCreate()"
      ],
      "execution_count": 75,
      "outputs": []
    },
    {
      "cell_type": "markdown",
      "metadata": {
        "id": "s-LpyCLzlul6"
      },
      "source": [
        "You can easily check the current version and get the link of the web interface. In the Spark UI, you can monitor the progress of your job and debug the performance bottlenecks (if your Colab is running with a **local runtime**)."
      ]
    },
    {
      "cell_type": "code",
      "metadata": {
        "id": "0g87iz4klwYJ",
        "colab": {
          "base_uri": "https://localhost:8080/",
          "height": 216
        },
        "outputId": "dccb4c14-ac08-4fe1-bd1c-d500474f0782"
      },
      "source": [
        "spark"
      ],
      "execution_count": 76,
      "outputs": [
        {
          "output_type": "execute_result",
          "data": {
            "text/html": [
              "\n",
              "            <div>\n",
              "                <p><b>SparkSession - in-memory</b></p>\n",
              "                \n",
              "        <div>\n",
              "            <p><b>SparkContext</b></p>\n",
              "\n",
              "            <p><a href=\"http://f113695cb131:4050\">Spark UI</a></p>\n",
              "\n",
              "            <dl>\n",
              "              <dt>Version</dt>\n",
              "                <dd><code>v3.1.1</code></dd>\n",
              "              <dt>Master</dt>\n",
              "                <dd><code>local[*]</code></dd>\n",
              "              <dt>AppName</dt>\n",
              "                <dd><code>pyspark-shell</code></dd>\n",
              "            </dl>\n",
              "        </div>\n",
              "        \n",
              "            </div>\n",
              "        "
            ],
            "text/plain": [
              "<pyspark.sql.session.SparkSession at 0x7fce7448d9d0>"
            ]
          },
          "metadata": {
            "tags": []
          },
          "execution_count": 76
        }
      ]
    },
    {
      "cell_type": "markdown",
      "metadata": {
        "id": "Vdwc4xKPl3Jv"
      },
      "source": [
        "If you are running this Colab on the Google hosted runtime, the cell below will create a *ngrok* tunnel which will allow you to still check the Spark UI."
      ]
    },
    {
      "cell_type": "code",
      "metadata": {
        "id": "qephEB4Tl14J",
        "colab": {
          "base_uri": "https://localhost:8080/"
        },
        "outputId": "28b327b1-8b0c-4b2f-d7be-46db525cb75c"
      },
      "source": [
        "!wget https://bin.equinox.io/c/4VmDzA7iaHb/ngrok-stable-linux-amd64.zip\n",
        "!unzip ngrok-stable-linux-amd64.zip\n",
        "get_ipython().system_raw('./ngrok http 4050 &')\n",
        "!curl -s http://localhost:4040/api/tunnels | python3 -c \\\n",
        "    \"import sys, json; print(json.load(sys.stdin)['tunnels'][0]['public_url'])\""
      ],
      "execution_count": 78,
      "outputs": [
        {
          "output_type": "stream",
          "text": [
            "--2021-04-13 17:19:35--  https://bin.equinox.io/c/4VmDzA7iaHb/ngrok-stable-linux-amd64.zip\n",
            "Resolving bin.equinox.io (bin.equinox.io)... 52.203.100.2, 34.235.3.193, 54.85.41.146, ...\n",
            "Connecting to bin.equinox.io (bin.equinox.io)|52.203.100.2|:443... connected.\n",
            "HTTP request sent, awaiting response... 200 OK\n",
            "Length: 14746350 (14M) [application/octet-stream]\n",
            "Saving to: ‘ngrok-stable-linux-amd64.zip.2’\n",
            "\n",
            "ngrok-stable-linux- 100%[===================>]  14.06M  6.43MB/s    in 2.2s    \n",
            "\n",
            "2021-04-13 17:19:38 (6.43 MB/s) - ‘ngrok-stable-linux-amd64.zip.2’ saved [14746350/14746350]\n",
            "\n",
            "Archive:  ngrok-stable-linux-amd64.zip\n",
            "replace ngrok? [y]es, [n]o, [A]ll, [N]one, [r]ename: Traceback (most recent call last):\n",
            "  File \"<string>\", line 1, in <module>\n",
            "IndexError: list index out of range\n"
          ],
          "name": "stdout"
        }
      ]
    },
    {
      "cell_type": "markdown",
      "metadata": {
        "id": "CRaF2A_j_nC7"
      },
      "source": [
        "### Your task"
      ]
    },
    {
      "cell_type": "markdown",
      "metadata": {
        "id": "ebLNUxP0_8x3"
      },
      "source": [
        "If you run successfully the setup stage, you are ready to work with the **3 Million Instacart Orders** dataset. In case you want to read more about it, check the [official Instacart blog post](https://tech.instacart.com/3-million-instacart-orders-open-sourced-d40d29ead6f2) about it, a concise [schema description](https://gist.github.com/jeremystan/c3b39d947d9b88b3ccff3147dbcf6c6b) of the dataset, and the [download page](https://www.instacart.com/datasets/grocery-shopping-2017).\n",
        "\n",
        "In this Colab, we will be working only with a small training dataset (~131K orders) to perform fast Frequent Pattern Mining with the FP-Growth algorithm."
      ]
    },
    {
      "cell_type": "code",
      "metadata": {
        "id": "xu-e7Ph2_ruG"
      },
      "source": [
        "products = spark.read.csv('products.csv', header=True, inferSchema=True)\n",
        "orders = spark.read.csv('order_products__train.csv', header=True, inferSchema=True)"
      ],
      "execution_count": 79,
      "outputs": []
    },
    {
      "cell_type": "code",
      "metadata": {
        "id": "hhxZZRT9syUO",
        "colab": {
          "base_uri": "https://localhost:8080/"
        },
        "outputId": "12110bbb-2ff0-44bc-bf74-1aa8ac5912f4"
      },
      "source": [
        "products.printSchema()"
      ],
      "execution_count": 80,
      "outputs": [
        {
          "output_type": "stream",
          "text": [
            "root\n",
            " |-- product_id: integer (nullable = true)\n",
            " |-- product_name: string (nullable = true)\n",
            " |-- aisle_id: string (nullable = true)\n",
            " |-- department_id: string (nullable = true)\n",
            "\n"
          ],
          "name": "stdout"
        }
      ]
    },
    {
      "cell_type": "code",
      "metadata": {
        "id": "8VeRYRz2s1pm",
        "colab": {
          "base_uri": "https://localhost:8080/"
        },
        "outputId": "c91d9ce1-9552-4a12-a59f-f7aec41c47d8"
      },
      "source": [
        "orders.printSchema()"
      ],
      "execution_count": 81,
      "outputs": [
        {
          "output_type": "stream",
          "text": [
            "root\n",
            " |-- order_id: integer (nullable = true)\n",
            " |-- product_id: integer (nullable = true)\n",
            " |-- add_to_cart_order: integer (nullable = true)\n",
            " |-- reordered: integer (nullable = true)\n",
            "\n"
          ],
          "name": "stdout"
        }
      ]
    },
    {
      "cell_type": "markdown",
      "metadata": {
        "id": "h5muD_Io59CG"
      },
      "source": [
        "Use the Spark Dataframe API to join 'products' and 'orders', so that you will be able to see the product names in each transaction (and not only their ids).  Then, group by the orders by 'order_id' to obtain one row per basket (i.e., set of products purchased together by one customer). "
      ]
    },
    {
      "cell_type": "code",
      "metadata": {
        "id": "zRH4o4p7s7V6",
        "colab": {
          "base_uri": "https://localhost:8080/"
        },
        "outputId": "da2871be-6985-40a2-9078-689b8df383f3"
      },
      "source": [
        "joined = products.join(orders, on = ['product_id'])\n",
        "grouped = joined.groupBy('order_id').agg(collect_list(\"product_name\"))\n",
        "grouped.show()"
      ],
      "execution_count": 82,
      "outputs": [
        {
          "output_type": "stream",
          "text": [
            "+--------+--------------------------+\n",
            "|order_id|collect_list(product_name)|\n",
            "+--------+--------------------------+\n",
            "|    1342|      [Bag of Organic B...|\n",
            "|    1591|      [Cracked Wheat, O...|\n",
            "|    4519|      [Beet Apple Carro...|\n",
            "|    4935|                   [Vodka]|\n",
            "|    6357|      [Fresh Mozzarella...|\n",
            "|   10362|      [Crinkle Cut Fren...|\n",
            "|   19204|      [Lemon Lime Thirs...|\n",
            "|   29601|      [Toasted Coconut ...|\n",
            "|   31035|      [Bag of Organic B...|\n",
            "|   40011|      [Sea Salt Macadam...|\n",
            "|   46266|      [Organic Uncured ...|\n",
            "|   51607|      [Major Dickason's...|\n",
            "|   58797|      [Bag of Organic B...|\n",
            "|   61793|      [Raspberries, Nat...|\n",
            "|   67089|      [Banana, Organic ...|\n",
            "|   70863|      [Bathroom Tissue,...|\n",
            "|   88674|      [Unsweetened Almo...|\n",
            "|   91937|      [No. 485 Gin, Tra...|\n",
            "|   92317|      [Banana, Indian M...|\n",
            "|   99621|      [Organic Basil, F...|\n",
            "+--------+--------------------------+\n",
            "only showing top 20 rows\n",
            "\n"
          ],
          "name": "stdout"
        }
      ]
    },
    {
      "cell_type": "markdown",
      "metadata": {
        "id": "EfHoTLAg6qnM"
      },
      "source": [
        "In this Colab we will explore [MLlib](https://spark.apache.org/mllib/), Apache Spark's scalable machine learning library. Specifically, you can use its implementation of the [FP-Growth](https://spark.apache.org/docs/latest/ml-frequent-pattern-mining.html#fp-growth) algorithm to perform efficiently Frequent Pattern Mining in Spark.\n",
        "Use the Python example in the documentation, and train a model with \n",
        "\n",
        "```minSupport=0.01``` and ```minConfidence=0.5```\n",
        "\n"
      ]
    },
    {
      "cell_type": "code",
      "metadata": {
        "id": "boWgxXNns089"
      },
      "source": [
        "from pyspark.ml.fpm import FPGrowth"
      ],
      "execution_count": 83,
      "outputs": []
    },
    {
      "cell_type": "code",
      "metadata": {
        "id": "OTE22Q2TgQ8M"
      },
      "source": [
        "fpGrowth = FPGrowth(itemsCol=\"collect_list(product_name)\", minSupport=0.01, minConfidence=0.5)\n",
        "model = fpGrowth.fit(grouped)\n",
        "\n",
        "# Display frequent itemsets.\n",
        "freqItemsets = model.freqItemsets\n",
        "\n",
        "# Display generated association rules.\n",
        "associationRules = model.associationRules\n",
        "\n",
        "# transform examines the input items against all the association rules and summarize the\n",
        "# consequents as prediction\n",
        "# model.transform(grouped).show()"
      ],
      "execution_count": 85,
      "outputs": []
    },
    {
      "cell_type": "markdown",
      "metadata": {
        "id": "6kpTVdfD8UiO"
      },
      "source": [
        "Compute how many frequent itemsets and association rules were generated by running FP-growth.\n"
      ]
    },
    {
      "cell_type": "code",
      "metadata": {
        "id": "6KYgQ_URunvA",
        "colab": {
          "base_uri": "https://localhost:8080/"
        },
        "outputId": "1a8e379c-a2bd-48cf-d5fd-7f4afbb4cb3e"
      },
      "source": [
        "print(\"---------------------------------------\")\n",
        "print(\"Generated were\")\n",
        "print(str(freqItemsets.count()) + \" frequent itemsets\")\n",
        "print(\"and\")\n",
        "print(str(associationRules.count()) + \" association rules\")\n",
        "print(\"---------------------------------------\")"
      ],
      "execution_count": 86,
      "outputs": [
        {
          "output_type": "stream",
          "text": [
            "---------------------------------------\n",
            "Generated were\n",
            "120 frequent itemsets\n",
            "and\n",
            "0 association rules\n",
            "---------------------------------------\n"
          ],
          "name": "stdout"
        }
      ]
    },
    {
      "cell_type": "markdown",
      "metadata": {
        "id": "qT8Lwm1VAPoN"
      },
      "source": [
        "Now retrain the FP-growth model changing only \n",
        "```minsupport=0.001``` \n",
        "and compute how many frequent itemsets and association rules were generated.\n"
      ]
    },
    {
      "cell_type": "code",
      "metadata": {
        "id": "F4LTM9beApYn",
        "colab": {
          "base_uri": "https://localhost:8080/"
        },
        "outputId": "ed8bd19a-81ec-48b7-d0d7-2c2f5babc753"
      },
      "source": [
        "fpGrowth2 = FPGrowth(itemsCol=\"collect_list(product_name)\", minSupport=0.001, minConfidence=0.5)\n",
        "model2 = fpGrowth2.fit(grouped)\n",
        "\n",
        "# Display frequent itemsets.\n",
        "freqItemsets2 = model2.freqItemsets\n",
        "\n",
        "# Display generated association rules.\n",
        "associationRules2 = model2.associationRules\n",
        "\n",
        "# transform examines the input items against all the association rules and summarize the\n",
        "# consequents as prediction\n",
        "# model2.transform(grouped).show()"
      ],
      "execution_count": 87,
      "outputs": [
        {
          "output_type": "stream",
          "text": [
            "+--------+--------------------------+----------+\n",
            "|order_id|collect_list(product_name)|prediction|\n",
            "+--------+--------------------------+----------+\n",
            "|    1342|      [Bag of Organic B...|        []|\n",
            "|    1591|      [Cracked Wheat, O...|        []|\n",
            "|    4519|      [Beet Apple Carro...|        []|\n",
            "|    4935|                   [Vodka]|        []|\n",
            "|    6357|      [Fresh Mozzarella...|        []|\n",
            "|   10362|      [Crinkle Cut Fren...|        []|\n",
            "|   19204|      [Lemon Lime Thirs...|        []|\n",
            "|   29601|      [Toasted Coconut ...|        []|\n",
            "|   31035|      [Bag of Organic B...|        []|\n",
            "|   40011|      [Sea Salt Macadam...|        []|\n",
            "|   46266|      [Organic Uncured ...|        []|\n",
            "|   51607|      [Major Dickason's...|        []|\n",
            "|   58797|      [Bag of Organic B...|        []|\n",
            "|   61793|      [Raspberries, Nat...|        []|\n",
            "|   67089|      [Banana, Organic ...|        []|\n",
            "|   70863|      [Bathroom Tissue,...|        []|\n",
            "|   88674|      [Unsweetened Almo...|        []|\n",
            "|   91937|      [No. 485 Gin, Tra...|        []|\n",
            "|   92317|      [Banana, Indian M...|        []|\n",
            "|   99621|      [Organic Basil, F...|        []|\n",
            "+--------+--------------------------+----------+\n",
            "only showing top 20 rows\n",
            "\n"
          ],
          "name": "stdout"
        }
      ]
    },
    {
      "cell_type": "code",
      "metadata": {
        "colab": {
          "base_uri": "https://localhost:8080/"
        },
        "id": "3wGYv19askBn",
        "outputId": "76556191-f914-434c-bbd1-a161aead370d"
      },
      "source": [
        "print(\"---------------------------------------\")\n",
        "print(\"Generated were\")\n",
        "print(str(freqItemsets2.count()) + \" frequent itemsets\")\n",
        "print(\"and\")\n",
        "print(str(associationRules2.count()) + \" association rules\")\n",
        "print(\"---------------------------------------\")"
      ],
      "execution_count": 88,
      "outputs": [
        {
          "output_type": "stream",
          "text": [
            "---------------------------------------\n",
            "Generated were\n",
            "4444 frequent itemsets\n",
            "and\n",
            "11 association rules\n",
            "---------------------------------------\n"
          ],
          "name": "stdout"
        }
      ]
    },
    {
      "cell_type": "markdown",
      "metadata": {
        "id": "Mr5hCs0MdmHN"
      },
      "source": [
        "To conclude, go to Gradescope and read the remaining questions. We will ask you to inspect the resulting dataframes, and report a few results."
      ]
    },
    {
      "cell_type": "code",
      "metadata": {
        "id": "9OeDU7MnShgR"
      },
      "source": [
        "sorted = freqItemsets2.sort(col(\"freq\").desc())"
      ],
      "execution_count": 102,
      "outputs": []
    },
    {
      "cell_type": "code",
      "metadata": {
        "colab": {
          "base_uri": "https://localhost:8080/"
        },
        "id": "ckC3tuVgdV5g",
        "outputId": "3680098f-71a2-4e4b-b0ee-377f46e5a928"
      },
      "source": [
        "sorted.show()"
      ],
      "execution_count": 133,
      "outputs": [
        {
          "output_type": "stream",
          "text": [
            "+--------------------+-----+\n",
            "|               items| freq|\n",
            "+--------------------+-----+\n",
            "|            [Banana]|18726|\n",
            "|[Bag of Organic B...|15480|\n",
            "|[Organic Strawber...|10894|\n",
            "|[Organic Baby Spi...| 9784|\n",
            "|       [Large Lemon]| 8135|\n",
            "|   [Organic Avocado]| 7409|\n",
            "|[Organic Hass Avo...| 7293|\n",
            "|      [Strawberries]| 6494|\n",
            "|             [Limes]| 6033|\n",
            "|[Organic Raspberr...| 5546|\n",
            "|[Organic Blueberr...| 4966|\n",
            "|[Organic Whole Milk]| 4908|\n",
            "|  [Organic Cucumber]| 4613|\n",
            "|  [Organic Zucchini]| 4589|\n",
            "|[Organic Yellow O...| 4290|\n",
            "|    [Organic Garlic]| 4158|\n",
            "|[Seedless Red Gra...| 4059|\n",
            "|         [Asparagus]| 3868|\n",
            "|[Organic Grape To...| 3823|\n",
            "| [Organic Red Onion]| 3818|\n",
            "+--------------------+-----+\n",
            "only showing top 20 rows\n",
            "\n"
          ],
          "name": "stdout"
        }
      ]
    },
    {
      "cell_type": "code",
      "metadata": {
        "colab": {
          "base_uri": "https://localhost:8080/"
        },
        "id": "WX8VVAo0dp5A",
        "outputId": "038aca80-1f60-4a4e-d402-a9663dbd7800"
      },
      "source": [
        "associationRules2.show()"
      ],
      "execution_count": 134,
      "outputs": [
        {
          "output_type": "stream",
          "text": [
            "+--------------------+--------------------+------------------+------------------+--------------------+\n",
            "|          antecedent|          consequent|        confidence|              lift|             support|\n",
            "+--------------------+--------------------+------------------+------------------+--------------------+\n",
            "|[Organic Kiwi, Or...|[Bag of Organic B...|0.5459770114942529| 4.627719489738336|0.001448071397541327|\n",
            "|[Organic Raspberr...|[Bag of Organic B...|0.5984251968503937| 5.072272070642333|0.001737685677049...|\n",
            "|[Organic Broccoli...|[Bag of Organic B...|0.5048231511254019| 4.278897986822536|0.001196564260073623|\n",
            "|[Organic Unsweete...|[Bag of Organic B...|0.5141065830721003| 4.357584667849303|0.001249914258930...|\n",
            "|[Yellow Onions, S...|            [Banana]|0.5357142857142857|3.7536332219526702|0.001143214261216...|\n",
            "|[Organic Cucumber...|[Bag of Organic B...|          0.546875| 4.635330870478036|0.001066999977135...|\n",
            "|[Organic Navel Or...|[Bag of Organic B...|0.5283018867924528| 4.477904539027839|0.001493799967990...|\n",
            "|[Organic Raspberr...|[Bag of Organic B...| 0.521099116781158| 4.416853618458589|0.004046978484707604|\n",
            "|[Organic D'Anjou ...|[Bag of Organic B...|0.5170454545454546|4.3824946411792345|0.001387099970276...|\n",
            "|[Organic Navel Or...|[Bag of Organic B...|0.5412186379928315| 4.587387356098284|0.001150835689624...|\n",
            "|[Organic Whole St...|[Bag of Organic B...|0.5314685314685315| 4.504745125675359|0.001158457118033...|\n",
            "+--------------------+--------------------+------------------+------------------+--------------------+\n",
            "\n"
          ],
          "name": "stdout"
        }
      ]
    },
    {
      "cell_type": "code",
      "metadata": {
        "id": "T8ZIDMd6kCMK",
        "outputId": "45cac0ee-98e1-44e4-9891-16cb606b2ff5",
        "colab": {
          "base_uri": "https://localhost:8080/"
        }
      },
      "source": [
        "associationRules2.collect()[2]"
      ],
      "execution_count": 135,
      "outputs": [
        {
          "output_type": "execute_result",
          "data": {
            "text/plain": [
              "Row(antecedent=['Organic Broccoli', 'Organic Hass Avocado'], consequent=['Bag of Organic Bananas'], confidence=0.5048231511254019, lift=4.278897986822536, support=0.001196564260073623)"
            ]
          },
          "metadata": {
            "tags": []
          },
          "execution_count": 135
        }
      ]
    },
    {
      "cell_type": "markdown",
      "metadata": {
        "id": "2WSXPflUN76-"
      },
      "source": [
        "Once you obtained the desired results, **head over to Gradescope and submit your solution for this Colab**!"
      ]
    },
    {
      "cell_type": "markdown",
      "metadata": {
        "id": "kQ-MUJ7QQi3f"
      },
      "source": [
        "## Results:\n",
        "*   Q2.1: 120 \n",
        "*   Q2.2: 0\n",
        "*   Q2.3: 4444\n",
        "*   Q2.4: 11\n",
        "*   Q2.5: banana\n",
        "*   Q2.6: 6494\n",
        "*   Q2.7: 0.505\n",
        "*   Q2.8: 4.279\n",
        "\n",
        "\n",
        "\n",
        "\n",
        "\n",
        "\n"
      ]
    },
    {
      "cell_type": "code",
      "metadata": {
        "id": "qL3iHn_dQhBO"
      },
      "source": [
        ""
      ],
      "execution_count": null,
      "outputs": []
    }
  ]
}