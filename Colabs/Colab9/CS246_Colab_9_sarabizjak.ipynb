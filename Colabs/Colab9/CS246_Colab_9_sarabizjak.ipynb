{
  "nbformat": 4,
  "nbformat_minor": 0,
  "metadata": {
    "colab": {
      "name": "CS246 - Colab 9.ipynb",
      "provenance": [],
      "collapsed_sections": [],
      "toc_visible": true
    },
    "kernelspec": {
      "name": "python3",
      "display_name": "Python 3"
    }
  },
  "cells": [
    {
      "cell_type": "markdown",
      "metadata": {
        "id": "kPt5q27L5557"
      },
      "source": [
        "# CS246 - Colab 9\n",
        "## Studying COVID-19"
      ]
    },
    {
      "cell_type": "markdown",
      "metadata": {
        "id": "p0-YhEpP_Ds-"
      },
      "source": [
        "### Setup"
      ]
    },
    {
      "cell_type": "markdown",
      "metadata": {
        "id": "Zsj5WYpR9QId"
      },
      "source": [
        "Let's setup Spark on your Colab environment.  Run the cell below!"
      ]
    },
    {
      "cell_type": "code",
      "metadata": {
        "id": "k-qHai2252mI",
        "outputId": "37c47971-4a2f-4923-9df0-64e1a03a25a9",
        "colab": {
          "base_uri": "https://localhost:8080/"
        }
      },
      "source": [
        "!pip install pyspark\n",
        "!pip install -U -q PyDrive\n",
        "!apt install openjdk-8-jdk-headless -qq\n",
        "import os\n",
        "os.environ[\"JAVA_HOME\"] = \"/usr/lib/jvm/java-8-openjdk-amd64\""
      ],
      "execution_count": 9,
      "outputs": [
        {
          "output_type": "stream",
          "text": [
            "Requirement already satisfied: pyspark in /usr/local/lib/python3.7/dist-packages (3.1.2)\n",
            "Requirement already satisfied: py4j==0.10.9 in /usr/local/lib/python3.7/dist-packages (from pyspark) (0.10.9)\n",
            "openjdk-8-jdk-headless is already the newest version (8u292-b10-0ubuntu1~18.04).\n",
            "The following package was automatically installed and is no longer required:\n",
            "  libnvidia-common-460\n",
            "Use 'apt autoremove' to remove it.\n",
            "0 upgraded, 0 newly installed, 0 to remove and 34 not upgraded.\n"
          ],
          "name": "stdout"
        }
      ]
    },
    {
      "cell_type": "markdown",
      "metadata": {
        "id": "PUUjUvXe3Sjk"
      },
      "source": [
        "Now we authenticate a Google Drive client to download the files we will be processing in our Spark job.\n",
        "\n",
        "**Make sure to follow the interactive instructions.**"
      ]
    },
    {
      "cell_type": "code",
      "metadata": {
        "id": "lRElWs_x2mGh"
      },
      "source": [
        "from pydrive.auth import GoogleAuth\n",
        "from pydrive.drive import GoogleDrive\n",
        "from google.colab import auth\n",
        "from oauth2client.client import GoogleCredentials\n",
        "\n",
        "# Authenticate and create the PyDrive client\n",
        "auth.authenticate_user()\n",
        "gauth = GoogleAuth()\n",
        "gauth.credentials = GoogleCredentials.get_application_default()\n",
        "drive = GoogleDrive(gauth)"
      ],
      "execution_count": 10,
      "outputs": []
    },
    {
      "cell_type": "code",
      "metadata": {
        "id": "QHsFTGUy2n1c"
      },
      "source": [
        "id='1YT7ttUAafCjbVdm6obeHp1TWAK0rEtoR'\n",
        "downloaded = drive.CreateFile({'id': id})\n",
        "downloaded.GetContentFile('time_series_covid19_confirmed_global.csv')\n",
        "\n",
        "id='1YxEA5UQ2EFJ_9oLssM__Gs1ncVNufGNA'\n",
        "downloaded = drive.CreateFile({'id': id})\n",
        "downloaded.GetContentFile('time_series_covid19_deaths_global.csv')\n",
        "\n",
        "id='1CNxszuZTeIw-5cF5yrzKMZdb1qV0hSoy'\n",
        "downloaded = drive.CreateFile({'id': id})\n",
        "downloaded.GetContentFile('time_series_covid19_recovered_global.csv')"
      ],
      "execution_count": 11,
      "outputs": []
    },
    {
      "cell_type": "markdown",
      "metadata": {
        "id": "qwtlO4_m_LbQ"
      },
      "source": [
        "If you executed the cells above, you should be able to see the dataset we will use for this Colab under the \"Files\" tab on the left panel.\n",
        "\n",
        "Next, we import some of the common libraries needed for our task."
      ]
    },
    {
      "cell_type": "code",
      "metadata": {
        "id": "twk-K-jilWK7"
      },
      "source": [
        "import pandas as pd\n",
        "import numpy as np\n",
        "import matplotlib.pyplot as plt\n",
        "%matplotlib inline\n",
        "\n",
        "import pyspark\n",
        "from pyspark.sql import *\n",
        "from pyspark.sql.types import *\n",
        "from pyspark.sql.functions import *\n",
        "from pyspark import SparkContext, SparkConf\n",
        "from pyspark.sql.types import IntegerType"
      ],
      "execution_count": 92,
      "outputs": []
    },
    {
      "cell_type": "markdown",
      "metadata": {
        "id": "BtrJlMBt1Ela"
      },
      "source": [
        "Let's initialize the Spark context."
      ]
    },
    {
      "cell_type": "code",
      "metadata": {
        "id": "Vm3sAVeK1EDZ"
      },
      "source": [
        "sc = SparkContext.getOrCreate()\n",
        "sc.stop()\n",
        "\n",
        "# create the session\n",
        "conf = SparkConf().set(\"spark.ui.port\", \"4050\")\n",
        "\n",
        "# create the context\n",
        "sc = pyspark.SparkContext(conf=conf)\n",
        "spark = SparkSession.builder.getOrCreate()"
      ],
      "execution_count": 15,
      "outputs": []
    },
    {
      "cell_type": "markdown",
      "metadata": {
        "id": "YqovskkH1DmC"
      },
      "source": [
        "You can easily check the current version and get the link of the web interface. In the Spark UI, you can monitor the progress of your job and debug the performance bottlenecks (if your Colab is running with a **local runtime**)."
      ]
    },
    {
      "cell_type": "code",
      "metadata": {
        "id": "DueQggJc1DDk"
      },
      "source": [
        "spark"
      ],
      "execution_count": null,
      "outputs": []
    },
    {
      "cell_type": "markdown",
      "metadata": {
        "id": "Iid7lXcG1CY8"
      },
      "source": [
        "If you are running this Colab on the Google hosted runtime, the cell below will create a *ngrok* tunnel which will allow you to still check the Spark UI."
      ]
    },
    {
      "cell_type": "code",
      "metadata": {
        "id": "sDnGLVPH1BPQ"
      },
      "source": [
        "!wget https://bin.equinox.io/c/4VmDzA7iaHb/ngrok-stable-linux-amd64.zip\n",
        "!unzip ngrok-stable-linux-amd64.zip\n",
        "get_ipython().system_raw('./ngrok http 4050 &')\n",
        "!curl -s http://localhost:4040/api/tunnels | python3 -c \\\n",
        "    \"import sys, json; print(json.load(sys.stdin)['tunnels'][0]['public_url'])\""
      ],
      "execution_count": null,
      "outputs": []
    },
    {
      "cell_type": "markdown",
      "metadata": {
        "id": "kAYRX2PMm0L6"
      },
      "source": [
        "### Data Loading"
      ]
    },
    {
      "cell_type": "markdown",
      "metadata": {
        "id": "7hXdMR6wnEIM"
      },
      "source": [
        "In this Colab, we will be analyzing the timeseries data of the Coronavirus COVID-19 Global Cases, collected by Johns Hopkins CSSE.\n",
        "\n",
        "Here you can check a realtime dashboard based on this dataset: [https://www.arcgis.com/apps/opsdashboard/index.html?fbclid=IwAR2hQKsEZ3D38wVtXGryUhP9CG0Z6MYbUM_boPEaV8FBe71wUvDPc65ZG78#/bda7594740fd40299423467b48e9ecf6](https://www.arcgis.com/apps/opsdashboard/index.html?fbclid=IwAR2hQKsEZ3D38wVtXGryUhP9CG0Z6MYbUM_boPEaV8FBe71wUvDPc65ZG78#/bda7594740fd40299423467b48e9ecf6)\n",
        "\n",
        "---\n",
        "\n",
        "\n",
        "\n",
        "*   ```confirmed```: dataframe containing the cumulative number of confirmed COVID-19 cases, divided by geographical area\n",
        "*   ```deaths```: dataframe containing the cumulative number of deaths due to COVID-19, divided by geographical area\n",
        "*   ```recovered```: dataframe containing the cumulative number of recoevered patients, divided by geographical area\n",
        "\n",
        "The data sets contain data entries for each day, representing the cumulative totals as of that day.\n",
        "\n",
        "\n",
        "\n",
        "\n",
        "\n"
      ]
    },
    {
      "cell_type": "code",
      "metadata": {
        "id": "EUSeIQlNqv6J"
      },
      "source": [
        "confirmed = spark.read.csv('time_series_covid19_confirmed_global.csv', header=True)\n",
        "deaths = spark.read.csv('time_series_covid19_deaths_global.csv', header=True)\n",
        "recovered = spark.read.csv('time_series_covid19_recovered_global.csv', header=True)"
      ],
      "execution_count": 16,
      "outputs": []
    },
    {
      "cell_type": "markdown",
      "metadata": {
        "id": "WV45mAMfrmxA"
      },
      "source": [
        "### Your Task"
      ]
    },
    {
      "cell_type": "markdown",
      "metadata": {
        "id": "iLLbq024rr9l"
      },
      "source": [
        "We are aware of the stress we are all experiencing because of the still-ongoing pandemic and the fact that many of you have projects and exams due this week due to the lack of a finals week. As such, we decided to conclude our series of Colabs with a **lightweight task** -- given everything you have learned about Spark during the quarter, this Colab should take you just a few minutes to complete."
      ]
    },
    {
      "cell_type": "markdown",
      "metadata": {
        "id": "4wYiCEv_zhVf"
      },
      "source": [
        "Consider the entries for May 1, 2021, in the timeseries, and compute:\n",
        "\n",
        "\n",
        "*   number of confirmed COVID-19 cases across the globe\n",
        "*   number of deaths due to COVID-19 (across the globe)\n",
        "*   number of recovered patients across the globe\n",
        "\n"
      ]
    },
    {
      "cell_type": "code",
      "metadata": {
        "id": "w-Hoy-9Xzf8r",
        "outputId": "9c4ebcd4-c833-4718-b959-746fb5546abb",
        "colab": {
          "base_uri": "https://localhost:8080/"
        }
      },
      "source": [
        "print(confirmed.select(sum(\"5/1/21\")).collect())\n",
        "print(deaths.select(sum(\"5/1/21\")).collect())\n",
        "print(recovered.select(sum(\"5/1/21\")).collect())"
      ],
      "execution_count": 22,
      "outputs": [
        {
          "output_type": "stream",
          "text": [
            "[Row(sum(5/1/21)=152196159.0)]\n",
            "[Row(sum(5/1/21)=3192930.0)]\n",
            "[Row(sum(5/1/21)=88919401.0)]\n"
          ],
          "name": "stdout"
        }
      ]
    },
    {
      "cell_type": "markdown",
      "metadata": {
        "id": "yahkAHoS0HuU"
      },
      "source": [
        "Consider the data points for March 1, 2020, and March 1, 2021, and filter out the geographical locations where less than 50 cases have been confirmed.\n",
        "For the areas still taken into consideration after the filtering step, compute the ratio between number of deaths and number of confirmed cases."
      ]
    },
    {
      "cell_type": "code",
      "metadata": {
        "id": "8FwzsH4l1VCZ"
      },
      "source": [
        "df1 = confirmed.filter(col(\"3/1/20\") >= 50)\n",
        "df1 = df1.filter(col(\"Country/Region\") == \"China\")\n",
        "df1 = df1.select(\"Province/State\", \"3/1/20\").collect()"
      ],
      "execution_count": 53,
      "outputs": []
    },
    {
      "cell_type": "code",
      "metadata": {
        "id": "Z8sIzP0wFtQ1"
      },
      "source": [
        "df1_list = []\n",
        "for i in range(len(df1)):\n",
        "  df1_list.append((df1[i][\"Province/State\"], df1[i][\"3/1/20\"]))"
      ],
      "execution_count": 57,
      "outputs": []
    },
    {
      "cell_type": "code",
      "metadata": {
        "id": "WiBPCOEXGDI3",
        "outputId": "23434d48-0835-4c82-c45c-429e04abb5b5",
        "colab": {
          "base_uri": "https://localhost:8080/"
        }
      },
      "source": [
        "ratio = 0\n",
        "for numRow in range(len(df1_list)):\n",
        "  name = df1_list[numRow][0]\n",
        "  numCases = int(df1_list[numRow][1])\n",
        "  d = deaths.filter(col(\"Province/State\") == name)\n",
        "  d = d.select(\"3/1/20\")\n",
        "  numDeaths = int(d.collect()[0][\"3/1/20\"])\n",
        "  nextRatio = numDeaths / numCases\n",
        "  if nextRatio > ratio:\n",
        "    ratio = nextRatio\n",
        "    nameMaxRatio = name\n",
        "\n",
        "print(nameMaxRatio)"
      ],
      "execution_count": 65,
      "outputs": [
        {
          "output_type": "stream",
          "text": [
            "Hubei\n"
          ],
          "name": "stdout"
        }
      ]
    },
    {
      "cell_type": "markdown",
      "metadata": {
        "id": "MLBtZyFqPKkI"
      },
      "source": [
        "Consider the data points for March 1, 2021, and May 1, 2021, in the timeseries, and filter out the geographical locations where less than 50 deaths have been confirmed (as of March 1, 2021).\n",
        "For the areas still taken into consideration after the filtering step, compute the percent increase in cumulative deaths between the two dates."
      ]
    },
    {
      "cell_type": "code",
      "metadata": {
        "id": "FUWisUyMPI9A"
      },
      "source": [
        "df2 = confirmed.filter(col(\"3/1/21\") >= 50)\n",
        "df2 = df2.withColumn(\"3/1/21\", df2[\"3/1/21\"].cast(IntegerType()))\n",
        "df2 = df2.groupBy(\"Country/Region\").sum(\"3/1/21\").collect()"
      ],
      "execution_count": 178,
      "outputs": []
    },
    {
      "cell_type": "code",
      "metadata": {
        "id": "ze85oz-yIqPr"
      },
      "source": [
        "df2_list = []\n",
        "for i in range(len(df2)):\n",
        "  df2_list.append((df2[i][\"Country/Region\"], df2[i][\"sum(3/1/21)\"]))"
      ],
      "execution_count": 126,
      "outputs": []
    },
    {
      "cell_type": "code",
      "metadata": {
        "id": "SJ2hnCnRL8k5"
      },
      "source": [
        "df2_d = deaths.withColumn(\"3/1/21\", deaths[\"3/1/21\"].cast(IntegerType()))\n",
        "df2_d = df2_d.groupBy(\"Country/Region\").sum(\"3/1/21\")"
      ],
      "execution_count": 174,
      "outputs": []
    },
    {
      "cell_type": "code",
      "metadata": {
        "id": "zhEO7YMFIa4L",
        "outputId": "01c528a0-f75e-49f1-b5d0-e1441149f39f",
        "colab": {
          "base_uri": "https://localhost:8080/"
        }
      },
      "source": [
        "ratio = 0\n",
        "for numRow in range(len(df2_list)):\n",
        "  name = df2_list[numRow][0]\n",
        "  numCases = int(df2_list[numRow][1])\n",
        "  d = df2_d.filter(col(\"Country/Region\") == name)\n",
        "  d = d.select(\"sum(3/1/21)\")\n",
        "  numDeaths = int(df2_d.filter(col(\"Country/Region\") == name).collect()[0][\"sum(3/1/21)\"])\n",
        "  nextRatio = numDeaths / numCases\n",
        "  if nextRatio > ratio:\n",
        "    ratio = nextRatio\n",
        "    nameMaxRatio = name\n",
        "\n",
        "print(nameMaxRatio)"
      ],
      "execution_count": 176,
      "outputs": [
        {
          "output_type": "stream",
          "text": [
            "Yemen\n"
          ],
          "name": "stdout"
        }
      ]
    },
    {
      "cell_type": "markdown",
      "metadata": {
        "id": "MYNsT9_2qVev"
      },
      "source": [
        "---"
      ]
    },
    {
      "cell_type": "code",
      "metadata": {
        "id": "Xqy9aHg1qUCM"
      },
      "source": [
        "df3 = deaths.filter(col(\"3/1/21\") >= 50)\n",
        "df3 = df3.withColumn(\"3/1/21\", df3[\"3/1/21\"].cast(IntegerType()))\n",
        "df3 = df3.withColumn(\"5/1/21\", df3[\"5/1/21\"].cast(IntegerType()))\n",
        "df3 = df3.groupBy(\"Country/Region\").sum(\"3/1/21\", \"5/1/21\").collect()"
      ],
      "execution_count": 186,
      "outputs": []
    },
    {
      "cell_type": "code",
      "metadata": {
        "id": "lARAaw86qg1Y"
      },
      "source": [
        "df3_list = []\n",
        "for i in range(len(df3)):\n",
        "  df3_list.append((df3[i][\"Country/Region\"], df3[i][\"sum(3/1/21)\"], df3[i][\"sum(5/1/21)\"]))"
      ],
      "execution_count": 196,
      "outputs": []
    },
    {
      "cell_type": "code",
      "metadata": {
        "id": "B9l68A7LqyIP",
        "outputId": "dcf2b186-6b58-4038-f1c7-a4d2e1c75ca2",
        "colab": {
          "base_uri": "https://localhost:8080/"
        }
      },
      "source": [
        "percentage = 0\n",
        "for numRow in range(len(df3_list)):\n",
        "  name = df3_list[numRow][0]\n",
        "  numCases_mar = int(df3_list[numRow][1])\n",
        "  numCases_maj = int(df3_list[numRow][2])\n",
        "  nextPercentage = ((numCases_maj - numCases_mar) / numCases_mar) * 100\n",
        "  if nextPercentage > percentage:\n",
        "    percentage = nextPercentage\n",
        "    nameMaxPerc = name\n",
        "print(nameMaxPerc)"
      ],
      "execution_count": 200,
      "outputs": [
        {
          "output_type": "stream",
          "text": [
            "Uruguay\n"
          ],
          "name": "stdout"
        }
      ]
    },
    {
      "cell_type": "markdown",
      "metadata": {
        "id": "SIrXJyVNP2AI"
      },
      "source": [
        "Once you have working code for each cell above, **head over to Gradescope, read carefully the questions, and submit your solution for this Colab**!"
      ]
    },
    {
      "cell_type": "markdown",
      "metadata": {
        "id": "I3iReg6BDUqK"
      },
      "source": [
        "---\n",
        "---\n",
        "# Results:\n",
        "---\n",
        "*   Q2.1 : 5/18/21\n",
        "*   Q2.2 : 152196159\n",
        "*   Q2.3 : 3192930\n",
        "*   Q2.4 : 88919401\n",
        "*   Q2.5 : Hubei\n",
        "*   Q2.6 : Yemen\n",
        "*   Q2.7 : Uruguay\n",
        "---\n",
        "\n"
      ]
    },
    {
      "cell_type": "code",
      "metadata": {
        "id": "FiqGIU4K9Zxr"
      },
      "source": [
        ""
      ],
      "execution_count": null,
      "outputs": []
    }
  ]
}