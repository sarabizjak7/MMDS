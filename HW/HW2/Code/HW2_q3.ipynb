{
  "nbformat": 4,
  "nbformat_minor": 0,
  "metadata": {
    "colab": {
      "name": "HW2_q3.ipynb",
      "provenance": [],
      "collapsed_sections": []
    },
    "kernelspec": {
      "name": "python3",
      "display_name": "Python 3"
    },
    "language_info": {
      "name": "python"
    }
  },
  "cells": [
    {
      "cell_type": "code",
      "metadata": {
        "colab": {
          "base_uri": "https://localhost:8080/"
        },
        "id": "pwkwf3YTKDbJ",
        "outputId": "9f232dea-9111-4316-af90-8dd150ec13e5"
      },
      "source": [
        "# pyspark --conf “spark.ui.port=10101”\n",
        "\n",
        "!pip install pyspark\n",
        "!pip install -U -q PyDrive\n",
        "!apt install openjdk-8-jdk-headless -qq\n",
        "import os\n",
        "os.environ[\"JAVA_HOME\"] = \"/usr/lib/jvm/java-8-openjdk-amd64\""
      ],
      "execution_count": 2,
      "outputs": [
        {
          "output_type": "stream",
          "text": [
            "Collecting pyspark\n",
            "\u001b[?25l  Downloading https://files.pythonhosted.org/packages/45/b0/9d6860891ab14a39d4bddf80ba26ce51c2f9dc4805e5c6978ac0472c120a/pyspark-3.1.1.tar.gz (212.3MB)\n",
            "\u001b[K     |████████████████████████████████| 212.3MB 43kB/s \n",
            "\u001b[?25hCollecting py4j==0.10.9\n",
            "\u001b[?25l  Downloading https://files.pythonhosted.org/packages/9e/b6/6a4fb90cd235dc8e265a6a2067f2a2c99f0d91787f06aca4bcf7c23f3f80/py4j-0.10.9-py2.py3-none-any.whl (198kB)\n",
            "\u001b[K     |████████████████████████████████| 204kB 47.9MB/s \n",
            "\u001b[?25hBuilding wheels for collected packages: pyspark\n",
            "  Building wheel for pyspark (setup.py) ... \u001b[?25l\u001b[?25hdone\n",
            "  Created wheel for pyspark: filename=pyspark-3.1.1-py2.py3-none-any.whl size=212767604 sha256=a6022d915bfa95d07069a229b5caaa822f5bdac926affcca3e0dad2accc520a3\n",
            "  Stored in directory: /root/.cache/pip/wheels/0b/90/c0/01de724414ef122bd05f056541fb6a0ecf47c7ca655f8b3c0f\n",
            "Successfully built pyspark\n",
            "Installing collected packages: py4j, pyspark\n",
            "Successfully installed py4j-0.10.9 pyspark-3.1.1\n",
            "The following package was automatically installed and is no longer required:\n",
            "  libnvidia-common-460\n",
            "Use 'apt autoremove' to remove it.\n",
            "The following additional packages will be installed:\n",
            "  openjdk-8-jre-headless\n",
            "Suggested packages:\n",
            "  openjdk-8-demo openjdk-8-source libnss-mdns fonts-dejavu-extra\n",
            "  fonts-ipafont-gothic fonts-ipafont-mincho fonts-wqy-microhei\n",
            "  fonts-wqy-zenhei fonts-indic\n",
            "The following NEW packages will be installed:\n",
            "  openjdk-8-jdk-headless openjdk-8-jre-headless\n",
            "0 upgraded, 2 newly installed, 0 to remove and 34 not upgraded.\n",
            "Need to get 36.5 MB of archives.\n",
            "After this operation, 143 MB of additional disk space will be used.\n",
            "E: Failed to fetch http://security.ubuntu.com/ubuntu/pool/universe/o/openjdk-8/openjdk-8-jre-headless_8u282-b08-0ubuntu1~18.04_amd64.deb  404  Not Found [IP: 91.189.88.142 80]\n",
            "E: Failed to fetch http://security.ubuntu.com/ubuntu/pool/universe/o/openjdk-8/openjdk-8-jdk-headless_8u282-b08-0ubuntu1~18.04_amd64.deb  404  Not Found [IP: 91.189.88.142 80]\n",
            "E: Unable to fetch some archives, maybe run apt-get update or try with --fix-missing?\n"
          ],
          "name": "stdout"
        }
      ]
    },
    {
      "cell_type": "code",
      "metadata": {
        "id": "Skf3crk_KK--"
      },
      "source": [
        "from pydrive.auth import GoogleAuth\n",
        "from pydrive.drive import GoogleDrive\n",
        "from google.colab import auth\n",
        "from oauth2client.client import GoogleCredentials\n",
        "\n",
        "# Authenticate and create the PyDrive client\n",
        "auth.authenticate_user()\n",
        "gauth = GoogleAuth()\n",
        "gauth.credentials = GoogleCredentials.get_application_default()\n",
        "drive = GoogleDrive(gauth)"
      ],
      "execution_count": 3,
      "outputs": []
    },
    {
      "cell_type": "code",
      "metadata": {
        "id": "Q_HOgbRpKMj5"
      },
      "source": [
        "# Let's import the libraries we will need\n",
        "import pandas as pd\n",
        "import numpy as np\n",
        "from numpy import linalg\n",
        "import matplotlib.pyplot as plt\n",
        "import math\n",
        "from numpy.linalg import norm\n",
        "%matplotlib inline"
      ],
      "execution_count": 4,
      "outputs": []
    },
    {
      "cell_type": "code",
      "metadata": {
        "id": "sQO3h7kxKi40"
      },
      "source": [
        "text_file = \"ratings.train.txt\""
      ],
      "execution_count": 39,
      "outputs": []
    },
    {
      "cell_type": "code",
      "metadata": {
        "colab": {
          "base_uri": "https://localhost:8080/"
        },
        "id": "2KQcglXujINp",
        "outputId": "3f3463cf-1838-449f-f0da-0d69df29a6ed"
      },
      "source": [
        "with open(text_file, 'r') as f:\n",
        "  data = f.readlines()\n",
        "  users = []\n",
        "  items = []\n",
        "  for line in data:\n",
        "    [u, i, r] = line.split()\n",
        "    users.append(int(u))\n",
        "    items.append(int(i))\n",
        "  print(max(users))\n",
        "  print(max(items))"
      ],
      "execution_count": 205,
      "outputs": [
        {
          "output_type": "stream",
          "text": [
            "943\n",
            "1682\n"
          ],
          "name": "stdout"
        }
      ]
    },
    {
      "cell_type": "code",
      "metadata": {
        "id": "wi9Lw5XmOVUy"
      },
      "source": [
        "# initialize the matrices P and Q\n",
        "P = np.random.uniform(0, (5 / k) ** 0.5, size = (943, 20))\n",
        "Q = np.random.uniform(0, (5 / k) ** 0.5, size = (1682, 20))"
      ],
      "execution_count": 224,
      "outputs": []
    },
    {
      "cell_type": "code",
      "metadata": {
        "id": "od2RWX7_lecp"
      },
      "source": [
        "def error_fun(file, P, Q, Lambda):\n",
        "\n",
        "  E = 0\n",
        "\n",
        "  data = open(file, 'r')\n",
        "  for line in data:\n",
        "    row =  [int(x) for x in line.split()]\n",
        "    u = row[0] - 1\n",
        "    i = row[1] - 1\n",
        "    R = row[2]\n",
        "\n",
        "    E += (R - np.dot(Q[i], P[u].transpose())) ** 2\n",
        "\n",
        "  data.close()\n",
        "\n",
        "  sum_P = 0\n",
        "  for p in range(len(P)):\n",
        "    sum_P += norm(P[p]) ** 2\n",
        "\n",
        "  sum_Q = 0\n",
        "  for q in range(len(Q)):\n",
        "    sum_Q += norm(Q[q]) ** 2\n",
        "\n",
        "  E += Lambda * (sum_P + sum_Q)\n",
        "\n",
        "  return E"
      ],
      "execution_count": 225,
      "outputs": []
    },
    {
      "cell_type": "code",
      "metadata": {
        "id": "__WIAeGNL0kI"
      },
      "source": [
        "def SGD(text_file, P, Q, Lambda = 0.1, iterations = 40, mi = 0.03):\n",
        "\n",
        "  E = []\n",
        "  for iter in range(iterations):\n",
        "    data = open(text_file, 'r')\n",
        "    for line in data:\n",
        "      # Extract the data:\n",
        "      row =  [int(x) for x in line.split()]\n",
        "      u = row[0] - 1\n",
        "      i = row[1] - 1\n",
        "      R = row[2]\n",
        "\n",
        "      # Update the values:\n",
        "      epsilon = 2 * (R - np.dot(Q[i], P[u].transpose()))\n",
        "      q = Q[i] + np.dot(mi, np.dot(epsilon, P[u]) - np.dot(2 * Lambda, Q[i]))\n",
        "      p = P[u] + np.dot(mi, np.dot(epsilon, Q[i]) - np.dot(2 * Lambda, P[u]))\n",
        "\n",
        "      Q[i] = q\n",
        "      P[u] = p\n",
        "      \n",
        "    data.close()\n",
        "    err = error_fun(text_file, P, Q, Lambda)\n",
        "    E.append(err)\n",
        "\n",
        "  return P, Q, E"
      ],
      "execution_count": 226,
      "outputs": []
    },
    {
      "cell_type": "code",
      "metadata": {
        "id": "ca0PQVNy5MJm"
      },
      "source": [
        "P, Q, E = SGD(text_file, P, Q)"
      ],
      "execution_count": 227,
      "outputs": []
    },
    {
      "cell_type": "code",
      "metadata": {
        "colab": {
          "base_uri": "https://localhost:8080/",
          "height": 350
        },
        "id": "4K2xP39LVZcP",
        "outputId": "b8b03fb4-146d-4442-dfc9-c9a6e23f0f07"
      },
      "source": [
        "x = [i for i in range(1, 41)]\n",
        "y = E\n",
        "\n",
        "plt.figure(figsize=(8,5))\n",
        "plt.plot(x, y)\n",
        "\n",
        "plt.title('Error as a function of the number of iteration')\n",
        "\n",
        "plt.ylabel('Error')\n",
        "plt.xlabel('Iteration')\n",
        "\n",
        "plt.savefig(\"error.png\")\n",
        "plt.show()"
      ],
      "execution_count": 228,
      "outputs": [
        {
          "output_type": "display_data",
          "data": {
            "image/png": "[encoded data removed]",
            "text/plain": [
              "<Figure size 576x360 with 1 Axes>"
            ]
          },
          "metadata": {
            "tags": [],
            "needs_background": "light"
          }
        }
      ]
    },
    {
      "cell_type": "code",
      "metadata": {
        "id": "yMRl7sPPTknp"
      },
      "source": [
        ""
      ],
      "execution_count": null,
      "outputs": []
    }
  ]
}