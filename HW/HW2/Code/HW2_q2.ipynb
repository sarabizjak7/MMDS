{
  "nbformat": 4,
  "nbformat_minor": 0,
  "metadata": {
    "colab": {
      "name": "HW2_q2.ipynb",
      "provenance": [],
      "collapsed_sections": []
    },
    "kernelspec": {
      "display_name": "Python 3",
      "name": "python3"
    },
    "language_info": {
      "name": "python"
    }
  },
  "cells": [
    {
      "cell_type": "code",
      "metadata": {
        "colab": {
          "base_uri": "https://localhost:8080/"
        },
        "id": "-inBhnP-b9-Y",
        "outputId": "365f4740-7ce0-43d5-8be5-69c61c844f1e"
      },
      "source": [
        "# pyspark --conf “spark.ui.port=10101”\n",
        "\n",
        "!pip install pyspark\n",
        "!pip install -U -q PyDrive\n",
        "!apt install openjdk-8-jdk-headless -qq\n",
        "import os\n",
        "os.environ[\"JAVA_HOME\"] = \"/usr/lib/jvm/java-8-openjdk-amd64\""
      ],
      "execution_count": 2,
      "outputs": [
        {
          "output_type": "stream",
          "text": [
            "Collecting pyspark\n",
            "\u001b[?25l  Downloading https://files.pythonhosted.org/packages/45/b0/9d6860891ab14a39d4bddf80ba26ce51c2f9dc4805e5c6978ac0472c120a/pyspark-3.1.1.tar.gz (212.3MB)\n",
            "\u001b[K     |████████████████████████████████| 212.3MB 73kB/s \n",
            "\u001b[?25hCollecting py4j==0.10.9\n",
            "\u001b[?25l  Downloading https://files.pythonhosted.org/packages/9e/b6/6a4fb90cd235dc8e265a6a2067f2a2c99f0d91787f06aca4bcf7c23f3f80/py4j-0.10.9-py2.py3-none-any.whl (198kB)\n",
            "\u001b[K     |████████████████████████████████| 204kB 44.3MB/s \n",
            "\u001b[?25hBuilding wheels for collected packages: pyspark\n",
            "  Building wheel for pyspark (setup.py) ... \u001b[?25l\u001b[?25hdone\n",
            "  Created wheel for pyspark: filename=pyspark-3.1.1-py2.py3-none-any.whl size=212767604 sha256=fa2780637a3776ef9356766b5407e685c8571f1e5afe7d6aa818eddfb72e0133\n",
            "  Stored in directory: /root/.cache/pip/wheels/0b/90/c0/01de724414ef122bd05f056541fb6a0ecf47c7ca655f8b3c0f\n",
            "Successfully built pyspark\n",
            "Installing collected packages: py4j, pyspark\n",
            "Successfully installed py4j-0.10.9 pyspark-3.1.1\n",
            "The following package was automatically installed and is no longer required:\n",
            "  libnvidia-common-460\n",
            "Use 'apt autoremove' to remove it.\n",
            "The following additional packages will be installed:\n",
            "  openjdk-8-jre-headless\n",
            "Suggested packages:\n",
            "  openjdk-8-demo openjdk-8-source libnss-mdns fonts-dejavu-extra\n",
            "  fonts-ipafont-gothic fonts-ipafont-mincho fonts-wqy-microhei\n",
            "  fonts-wqy-zenhei fonts-indic\n",
            "The following NEW packages will be installed:\n",
            "  openjdk-8-jdk-headless openjdk-8-jre-headless\n",
            "0 upgraded, 2 newly installed, 0 to remove and 34 not upgraded.\n",
            "Need to get 36.5 MB of archives.\n",
            "After this operation, 143 MB of additional disk space will be used.\n",
            "Selecting previously unselected package openjdk-8-jre-headless:amd64.\n",
            "(Reading database ... 160690 files and directories currently installed.)\n",
            "Preparing to unpack .../openjdk-8-jre-headless_8u282-b08-0ubuntu1~18.04_amd64.deb ...\n",
            "Unpacking openjdk-8-jre-headless:amd64 (8u282-b08-0ubuntu1~18.04) ...\n",
            "Selecting previously unselected package openjdk-8-jdk-headless:amd64.\n",
            "Preparing to unpack .../openjdk-8-jdk-headless_8u282-b08-0ubuntu1~18.04_amd64.deb ...\n",
            "Unpacking openjdk-8-jdk-headless:amd64 (8u282-b08-0ubuntu1~18.04) ...\n",
            "Setting up openjdk-8-jre-headless:amd64 (8u282-b08-0ubuntu1~18.04) ...\n",
            "update-alternatives: using /usr/lib/jvm/java-8-openjdk-amd64/jre/bin/orbd to provide /usr/bin/orbd (orbd) in auto mode\n",
            "update-alternatives: using /usr/lib/jvm/java-8-openjdk-amd64/jre/bin/servertool to provide /usr/bin/servertool (servertool) in auto mode\n",
            "update-alternatives: using /usr/lib/jvm/java-8-openjdk-amd64/jre/bin/tnameserv to provide /usr/bin/tnameserv (tnameserv) in auto mode\n",
            "Setting up openjdk-8-jdk-headless:amd64 (8u282-b08-0ubuntu1~18.04) ...\n",
            "update-alternatives: using /usr/lib/jvm/java-8-openjdk-amd64/bin/idlj to provide /usr/bin/idlj (idlj) in auto mode\n",
            "update-alternatives: using /usr/lib/jvm/java-8-openjdk-amd64/bin/wsimport to provide /usr/bin/wsimport (wsimport) in auto mode\n",
            "update-alternatives: using /usr/lib/jvm/java-8-openjdk-amd64/bin/jsadebugd to provide /usr/bin/jsadebugd (jsadebugd) in auto mode\n",
            "update-alternatives: using /usr/lib/jvm/java-8-openjdk-amd64/bin/native2ascii to provide /usr/bin/native2ascii (native2ascii) in auto mode\n",
            "update-alternatives: using /usr/lib/jvm/java-8-openjdk-amd64/bin/javah to provide /usr/bin/javah (javah) in auto mode\n",
            "update-alternatives: using /usr/lib/jvm/java-8-openjdk-amd64/bin/hsdb to provide /usr/bin/hsdb (hsdb) in auto mode\n",
            "update-alternatives: using /usr/lib/jvm/java-8-openjdk-amd64/bin/clhsdb to provide /usr/bin/clhsdb (clhsdb) in auto mode\n",
            "update-alternatives: using /usr/lib/jvm/java-8-openjdk-amd64/bin/xjc to provide /usr/bin/xjc (xjc) in auto mode\n",
            "update-alternatives: using /usr/lib/jvm/java-8-openjdk-amd64/bin/schemagen to provide /usr/bin/schemagen (schemagen) in auto mode\n",
            "update-alternatives: using /usr/lib/jvm/java-8-openjdk-amd64/bin/extcheck to provide /usr/bin/extcheck (extcheck) in auto mode\n",
            "update-alternatives: using /usr/lib/jvm/java-8-openjdk-amd64/bin/jhat to provide /usr/bin/jhat (jhat) in auto mode\n",
            "update-alternatives: using /usr/lib/jvm/java-8-openjdk-amd64/bin/wsgen to provide /usr/bin/wsgen (wsgen) in auto mode\n"
          ],
          "name": "stdout"
        }
      ]
    },
    {
      "cell_type": "code",
      "metadata": {
        "id": "YuQqZ3fJcEdI"
      },
      "source": [
        "from pydrive.auth import GoogleAuth\n",
        "from pydrive.drive import GoogleDrive\n",
        "from google.colab import auth\n",
        "from oauth2client.client import GoogleCredentials\n",
        "\n",
        "# Authenticate and create the PyDrive client\n",
        "auth.authenticate_user()\n",
        "gauth = GoogleAuth()\n",
        "gauth.credentials = GoogleCredentials.get_application_default()\n",
        "drive = GoogleDrive(gauth)"
      ],
      "execution_count": 3,
      "outputs": []
    },
    {
      "cell_type": "code",
      "metadata": {
        "id": "L7zlnIKycG0Q"
      },
      "source": [
        "# Let's import the libraries we will need\n",
        "import pandas as pd\n",
        "import numpy as np\n",
        "from numpy import linalg\n",
        "import matplotlib.pyplot as plt\n",
        "%matplotlib inline\n",
        "\n",
        "import pyspark\n",
        "from pyspark.sql import *\n",
        "from pyspark.sql.functions import *\n",
        "from pyspark import SparkContext\n",
        "from pyspark.sql.functions import monotonically_increasing_id"
      ],
      "execution_count": 108,
      "outputs": []
    },
    {
      "cell_type": "code",
      "metadata": {
        "id": "ODuzw9eGc7HP"
      },
      "source": [
        "sc = SparkContext.getOrCreate()\n",
        "sc.stop()\n",
        "\n",
        "# create the Spark Session\n",
        "spark = SparkSession.builder.getOrCreate()\n",
        "\n",
        "# create the Spark Context\n",
        "sc = spark.sparkContext"
      ],
      "execution_count": 147,
      "outputs": []
    },
    {
      "cell_type": "markdown",
      "metadata": {
        "id": "-J6INQqxc-jC"
      },
      "source": [
        "# Problem 2 -- k-means on Spark"
      ]
    },
    {
      "cell_type": "markdown",
      "metadata": {
        "id": "kUbuQtCndg1b"
      },
      "source": [
        "a1)\n"
      ]
    },
    {
      "cell_type": "markdown",
      "metadata": {
        "id": "8ioCRcvawaoI"
      },
      "source": [
        "#### Tools"
      ]
    },
    {
      "cell_type": "code",
      "metadata": {
        "id": "tgKUX3XufJvY"
      },
      "source": [
        "def distance_e(list1, list2):\n",
        "  squares = [(p-q) ** 2 for p, q in zip(list1, list2)]\n",
        "  return np.sum(squares) ** 0.5\n",
        "\n",
        "def distance_m(list1, list2):\n",
        "  absolute = [np.abs(p-q) for p, q in zip(list1, list2)]\n",
        "  return np.sum(absolute)\n",
        "\n",
        "def sort(grouped):\n",
        "  sort = sorted(grouped, key = lambda x : x[1])[:1] \n",
        "  return sort"
      ],
      "execution_count": 175,
      "outputs": []
    },
    {
      "cell_type": "markdown",
      "metadata": {
        "id": "4GQiqJ3swW2f"
      },
      "source": [
        "#### Import data"
      ]
    },
    {
      "cell_type": "code",
      "metadata": {
        "id": "E9TzSK7b9hD9"
      },
      "source": [
        "data = sc.textFile(\"data.txt\")\n",
        "data = data.map(lambda line: tuple([float(x) for x in line.split(\" \")])).zipWithIndex()"
      ],
      "execution_count": 149,
      "outputs": []
    },
    {
      "cell_type": "code",
      "metadata": {
        "id": "u801s-b09dEn"
      },
      "source": [
        "initial_c1 = sc.textFile(\"c1.txt\")\n",
        "c1 = initial_c1.map(lambda line: [float(x) for x in line.split(\" \")])"
      ],
      "execution_count": 177,
      "outputs": []
    },
    {
      "cell_type": "code",
      "metadata": {
        "id": "xDBmWEdxJjoV"
      },
      "source": [
        "initial_c2 = sc.textFile(\"c2.txt\")\n",
        "c2 = initial_c2.map(lambda line: [float(x) for x in line.split(\" \")])"
      ],
      "execution_count": 196,
      "outputs": []
    },
    {
      "cell_type": "markdown",
      "metadata": {
        "id": "I2_ML7EUweGu"
      },
      "source": [
        "#### Main -- iterations"
      ]
    },
    {
      "cell_type": "code",
      "metadata": {
        "id": "3Xsp3IZUThRL"
      },
      "source": [
        "max_iter = 20\n",
        "k = 10\n",
        "\n",
        "costs_c2_manh = []\n",
        "for i in range(21):\n",
        "\n",
        "  # assign points to clusters\n",
        "\n",
        "  merged = data.cartesian(c2)\n",
        "  #print(merged.count())\n",
        "  #dist = merged.map(lambda pair: [tuple(pair[0]), (tuple(pair[1]), distance_e(pair[0][0], pair[1]))])\n",
        "  dist = merged.map(lambda pair: [tuple(pair[0]), (tuple(pair[1]), distance_m(pair[0][0], pair[1]))])\n",
        "  #print(dist.count())\n",
        "  assigned = dist.groupByKey().mapValues(list).map(lambda pair: (pair[0][0], sort(pair[1])))\n",
        "  #print(assigned.count())\n",
        "  \n",
        "  # centroids\n",
        "  centroids = assigned.map(lambda x : (x[1][0][0], x[0]))\n",
        "  centroids_grouped = centroids.groupByKey().mapValues(list)\n",
        "  #print(centroids_grouped.count())\n",
        "  \n",
        "  # min_dist\n",
        "  #min_dist = assigned.map(lambda x : x[1][0][1]**2).sum()\n",
        "  min_dist = assigned.map(lambda x : x[1][0][1]).sum()\n",
        "  \n",
        "  # cost\n",
        "  cost = min_dist\n",
        "  costs_c2_manh.append(cost) \n",
        "\n",
        "  # recompute the centroids\n",
        "  recompute = centroids_grouped.map(lambda x : (x[0], list(np.mean(x[1], axis = 0))))\n",
        "  new = recompute.map(lambda x : x[1]).collect()\n",
        "  c2 = sc.parallelize(new)\n",
        "  #print(i)\n"
      ],
      "execution_count": 197,
      "outputs": []
    },
    {
      "cell_type": "markdown",
      "metadata": {
        "id": "o1dyg_XU4Ome"
      },
      "source": [
        "### Eucliedan distance"
      ]
    },
    {
      "cell_type": "code",
      "metadata": {
        "colab": {
          "base_uri": "https://localhost:8080/"
        },
        "id": "AwWg_vipIw_3",
        "outputId": "943399b4-b3b7-4b2b-af2c-d4d6692806dc"
      },
      "source": [
        "(costs_c1_eucl[0] - costs_c1_eucl[10]) / costs_c1_eucl[0]"
      ],
      "execution_count": 164,
      "outputs": [
        {
          "output_type": "execute_result",
          "data": {
            "text/plain": [
              "0.2648391714456047"
            ]
          },
          "metadata": {
            "tags": []
          },
          "execution_count": 164
        }
      ]
    },
    {
      "cell_type": "code",
      "metadata": {
        "colab": {
          "base_uri": "https://localhost:8080/"
        },
        "id": "6Zzct4NanHdZ",
        "outputId": "2d5c8b9f-5971-4973-91c0-f9e45d1d5d90"
      },
      "source": [
        "(costs_c2_eucl[0] - costs_c2_eucl[10]) / costs_c2_eucl[0]"
      ],
      "execution_count": 167,
      "outputs": [
        {
          "output_type": "execute_result",
          "data": {
            "text/plain": [
              "0.7669795594605944"
            ]
          },
          "metadata": {
            "tags": []
          },
          "execution_count": 167
        }
      ]
    },
    {
      "cell_type": "markdown",
      "metadata": {
        "id": "avOmoWxn44Jd"
      },
      "source": [
        "##### Plot"
      ]
    },
    {
      "cell_type": "code",
      "metadata": {
        "colab": {
          "base_uri": "https://localhost:8080/",
          "height": 350
        },
        "id": "OpTknilZ1zOX",
        "outputId": "b6b4201e-0580-44f5-ff41-a1ef14885db8"
      },
      "source": [
        "plt.figure(figsize=(8,5))\n",
        "\n",
        "x = [i for i in range(21)]\n",
        "y1 = costs_c1_eucl\n",
        "y2 = costs_c2_eucl\n",
        "\n",
        "plt.plot(x, y1) \n",
        "plt.plot(x, y2) \n",
        "\n",
        "plt.title('Cost function using the Euclidean distance')\n",
        "plt.legend([\"c1\", \"c2\"])\n",
        "\n",
        "plt.ylabel('Cost')\n",
        "plt.xlabel('Iteration')\n",
        "\n",
        "plt.savefig(\"eucl.png\")\n",
        "plt.show()"
      ],
      "execution_count": 190,
      "outputs": [
        {
          "output_type": "display_data",
          "data": {
            "image/png": "[encoded data removed]",
            "text/plain": [
              "<Figure size 576x360 with 1 Axes>"
            ]
          },
          "metadata": {
            "tags": [],
            "needs_background": "light"
          }
        }
      ]
    },
    {
      "cell_type": "markdown",
      "metadata": {
        "id": "IVhbhvHn4Sgk"
      },
      "source": [
        "### Manhattan distance"
      ]
    },
    {
      "cell_type": "code",
      "metadata": {
        "colab": {
          "base_uri": "https://localhost:8080/"
        },
        "id": "gnJixL3n0bVx",
        "outputId": "d6d1cf06-0e16-4ec6-b6b2-411d427de399"
      },
      "source": [
        "(costs_c1_manh[0] - costs_c1_manh[10]) / costs_c1_manh[0]"
      ],
      "execution_count": 179,
      "outputs": [
        {
          "output_type": "execute_result",
          "data": {
            "text/plain": [
              "0.18654926116799223"
            ]
          },
          "metadata": {
            "tags": []
          },
          "execution_count": 179
        }
      ]
    },
    {
      "cell_type": "code",
      "metadata": {
        "colab": {
          "base_uri": "https://localhost:8080/"
        },
        "id": "KwuPYXEc1_YL",
        "outputId": "82fa5faf-75e1-479f-c03e-47b7407977eb"
      },
      "source": [
        "(costs_c2_manh[0] - costs_c2_manh[10]) / costs_c2_manh[0]"
      ],
      "execution_count": 193,
      "outputs": [
        {
          "output_type": "execute_result",
          "data": {
            "text/plain": [
              "0.5155409910238908"
            ]
          },
          "metadata": {
            "tags": []
          },
          "execution_count": 193
        }
      ]
    },
    {
      "cell_type": "markdown",
      "metadata": {
        "id": "nBDPpzwy46ka"
      },
      "source": [
        "##### Plot"
      ]
    },
    {
      "cell_type": "code",
      "metadata": {
        "colab": {
          "base_uri": "https://localhost:8080/",
          "height": 350
        },
        "id": "4Z0gyT_B42VO",
        "outputId": "d7b077cc-59d9-4dd9-8c50-70360c460ce9"
      },
      "source": [
        "plt.figure(figsize=(8,5))\n",
        "\n",
        "x = [i for i in range(21)]\n",
        "y1 = costs_c1_manh\n",
        "y2 = costs_c2_manh\n",
        "\n",
        "plt.plot(x, y1) \n",
        "plt.plot(x, y2) \n",
        "\n",
        "plt.title('Cost function using the Manhattan distance')\n",
        "plt.legend([\"c1\", \"c2\"])\n",
        "\n",
        "plt.ylabel('Cost')\n",
        "plt.xlabel('Iteration')\n",
        "\n",
        "plt.savefig(\"manh.png\")\n",
        "plt.show()"
      ],
      "execution_count": 194,
      "outputs": [
        {
          "output_type": "display_data",
          "data": {
            "image/png": "[encoded data removed]",
            "text/plain": [
              "<Figure size 576x360 with 1 Axes>"
            ]
          },
          "metadata": {
            "tags": [],
            "needs_background": "light"
          }
        }
      ]
    },
    {
      "cell_type": "code",
      "metadata": {
        "id": "a0WtliwF5AOo"
      },
      "source": [
        ""
      ],
      "execution_count": null,
      "outputs": []
    }
  ]
}