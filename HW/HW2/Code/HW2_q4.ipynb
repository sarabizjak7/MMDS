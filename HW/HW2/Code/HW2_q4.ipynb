{
  "nbformat": 4,
  "nbformat_minor": 0,
  "metadata": {
    "colab": {
      "name": "HW2_q4.ipynb",
      "provenance": []
    },
    "kernelspec": {
      "name": "python3",
      "display_name": "Python 3"
    },
    "language_info": {
      "name": "python"
    }
  },
  "cells": [
    {
      "cell_type": "code",
      "metadata": {
        "id": "AAQXDdR-TpAj"
      },
      "source": [
        "from pydrive.auth import GoogleAuth\n",
        "from pydrive.drive import GoogleDrive\n",
        "from google.colab import auth\n",
        "from oauth2client.client import GoogleCredentials\n",
        "\n",
        "# Authenticate and create the PyDrive client\n",
        "auth.authenticate_user()\n",
        "gauth = GoogleAuth()\n",
        "gauth.credentials = GoogleCredentials.get_application_default()\n",
        "drive = GoogleDrive(gauth)"
      ],
      "execution_count": 1,
      "outputs": []
    },
    {
      "cell_type": "code",
      "metadata": {
        "id": "5rKF6OBaX8Fj"
      },
      "source": [
        "import numpy as np\n",
        "from scipy import linalg"
      ],
      "execution_count": 2,
      "outputs": []
    },
    {
      "cell_type": "code",
      "metadata": {
        "id": "RYn2iUMOX2oV"
      },
      "source": [
        "R = np.loadtxt(\"user-shows.txt\")\n",
        "RT = R.transpose()"
      ],
      "execution_count": 3,
      "outputs": []
    },
    {
      "cell_type": "code",
      "metadata": {
        "id": "KMmnKQoPZHka"
      },
      "source": [
        "RRT = np.matmul(R, RT)\n",
        "RTR = np.matmul(RT, R)"
      ],
      "execution_count": 7,
      "outputs": []
    },
    {
      "cell_type": "code",
      "metadata": {
        "id": "CdVIiNymYDSE"
      },
      "source": [
        "P = np.diag(np.diag(RRT))\n",
        "Q = np.diag(np.diag(RTR))"
      ],
      "execution_count": 11,
      "outputs": []
    },
    {
      "cell_type": "code",
      "metadata": {
        "id": "FsiocovQWL8N"
      },
      "source": [
        "Si = np.matmul(linalg.fractional_matrix_power(Q, -0.5), (np.matmul(RTR, (linalg.fractional_matrix_power(Q, -0.5)))))"
      ],
      "execution_count": 13,
      "outputs": []
    },
    {
      "cell_type": "code",
      "metadata": {
        "id": "l8VKHUGWbcqO"
      },
      "source": [
        "Su = np.matmul(linalg.fractional_matrix_power(P, -0.5), (np.matmul(RRT, (linalg.fractional_matrix_power(P, -0.5)))))"
      ],
      "execution_count": 56,
      "outputs": []
    },
    {
      "cell_type": "code",
      "metadata": {
        "id": "8vhLKSC0YK2S"
      },
      "source": [
        "Gamma_i = np.matmul(R, Si)\n",
        "Gamma_u = np.matmul(Su, R)"
      ],
      "execution_count": 102,
      "outputs": []
    },
    {
      "cell_type": "code",
      "metadata": {
        "colab": {
          "base_uri": "https://localhost:8080/"
        },
        "id": "xjeSASuHk6im",
        "outputId": "fb2b3a3e-a4eb-4045-94f9-ee101baef33e"
      },
      "source": [
        "recommendations_U = (-Gamma_u[499][0:100]).argsort()[:5]\n",
        "recommendations_U"
      ],
      "execution_count": 131,
      "outputs": [
        {
          "output_type": "execute_result",
          "data": {
            "text/plain": [
              "array([96, 74, 45, 60,  9])"
            ]
          },
          "metadata": {
            "tags": []
          },
          "execution_count": 131
        }
      ]
    },
    {
      "cell_type": "code",
      "metadata": {
        "id": "K-yjXCxlovAj"
      },
      "source": [
        "shows = []\n",
        "with open('shows.txt', 'r') as f:\n",
        "\tfor showline in f:\n",
        "\t\tshows.append(showline.strip()[1:-1])"
      ],
      "execution_count": 119,
      "outputs": []
    },
    {
      "cell_type": "markdown",
      "metadata": {
        "id": "toEFhZMTz4yV"
      },
      "source": [
        "Recommendations user-user"
      ]
    },
    {
      "cell_type": "code",
      "metadata": {
        "colab": {
          "base_uri": "https://localhost:8080/"
        },
        "id": "DllfLSMjxmLn",
        "outputId": "fe9b6819-021b-4eb3-af52-fdbff731f89a"
      },
      "source": [
        "for i in range(5):\n",
        "  print(shows[recommendations_U[i]])"
      ],
      "execution_count": 126,
      "outputs": [
        {
          "output_type": "stream",
          "text": [
            "FOX 28 News at 10pm\n",
            "Family Guy\n",
            "2009 NCAA Basketball Tournament\n",
            "NBC 4 at Eleven\n",
            "Two and a Half Men\n"
          ],
          "name": "stdout"
        }
      ]
    },
    {
      "cell_type": "code",
      "metadata": {
        "colab": {
          "base_uri": "https://localhost:8080/"
        },
        "id": "x_QG7MDux1gi",
        "outputId": "91e81b62-0dfa-4629-f664-29795fc48335"
      },
      "source": [
        "recommendations_I = (-Gamma_i[499][0:100]).argsort()[:5]\n",
        "recommendations_I"
      ],
      "execution_count": 129,
      "outputs": [
        {
          "output_type": "execute_result",
          "data": {
            "text/plain": [
              "array([96, 74, 60, 45, 82])"
            ]
          },
          "metadata": {
            "tags": []
          },
          "execution_count": 129
        }
      ]
    },
    {
      "cell_type": "markdown",
      "metadata": {
        "id": "-sVD4KsKz96o"
      },
      "source": [
        "Recommendations item-item"
      ]
    },
    {
      "cell_type": "code",
      "metadata": {
        "colab": {
          "base_uri": "https://localhost:8080/"
        },
        "id": "ltwr-RZnyD_1",
        "outputId": "1682ca1e-ef75-41d2-a8c1-02fc73000a08"
      },
      "source": [
        "for i in range(5):\n",
        "  print(shows[recommendations_I[i]])"
      ],
      "execution_count": 130,
      "outputs": [
        {
          "output_type": "stream",
          "text": [
            "FOX 28 News at 10pm\n",
            "Family Guy\n",
            "NBC 4 at Eleven\n",
            "2009 NCAA Basketball Tournament\n",
            "Access Hollywood\n"
          ],
          "name": "stdout"
        }
      ]
    }
  ]
}