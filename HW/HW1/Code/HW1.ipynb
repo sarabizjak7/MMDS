{
  "nbformat": 4,
  "nbformat_minor": 0,
  "metadata": {
    "colab": {
      "name": "HW1ipynb",
      "provenance": [],
      "collapsed_sections": [],
      "toc_visible": true
    },
    "kernelspec": {
      "name": "python3",
      "display_name": "Python 3"
    },
    "language_info": {
      "name": "python"
    }
  },
  "cells": [
    {
      "cell_type": "markdown",
      "metadata": {
        "id": "Iu-oy37TbWSE"
      },
      "source": [
        "#### Mining Massive Data Sets, Spring 2021"
      ]
    },
    {
      "cell_type": "markdown",
      "metadata": {
        "id": "YWgYgA2zbjLy"
      },
      "source": [
        "# Homework 1"
      ]
    },
    {
      "cell_type": "code",
      "metadata": {
        "colab": {
          "base_uri": "https://localhost:8080/"
        },
        "id": "HbI4x1Zvbk4N",
        "outputId": "2694660c-350e-4270-b085-9ed6f528c9be"
      },
      "source": [
        "# pyspark --conf “spark.ui.port=10101”\n",
        "\n",
        "!pip install pyspark\n",
        "!pip install -U -q PyDrive\n",
        "!apt install openjdk-8-jdk-headless -qq\n",
        "import os\n",
        "os.environ[\"JAVA_HOME\"] = \"/usr/lib/jvm/java-8-openjdk-amd64\""
      ],
      "execution_count": null,
      "outputs": [
        {
          "output_type": "stream",
          "text": [
            "Collecting pyspark\n",
            "\u001b[?25l  Downloading https://files.pythonhosted.org/packages/45/b0/9d6860891ab14a39d4bddf80ba26ce51c2f9dc4805e5c6978ac0472c120a/pyspark-3.1.1.tar.gz (212.3MB)\n",
            "\u001b[K     |████████████████████████████████| 212.3MB 68kB/s \n",
            "\u001b[?25hCollecting py4j==0.10.9\n",
            "\u001b[?25l  Downloading https://files.pythonhosted.org/packages/9e/b6/6a4fb90cd235dc8e265a6a2067f2a2c99f0d91787f06aca4bcf7c23f3f80/py4j-0.10.9-py2.py3-none-any.whl (198kB)\n",
            "\u001b[K     |████████████████████████████████| 204kB 44.3MB/s \n",
            "\u001b[?25hBuilding wheels for collected packages: pyspark\n",
            "  Building wheel for pyspark (setup.py) ... \u001b[?25l\u001b[?25hdone\n",
            "  Created wheel for pyspark: filename=pyspark-3.1.1-py2.py3-none-any.whl size=212767604 sha256=4ac090f5500c006ea265e74b1b12f9befca7cbd40701fd1115a19ecb3e58c837\n",
            "  Stored in directory: /root/.cache/pip/wheels/0b/90/c0/01de724414ef122bd05f056541fb6a0ecf47c7ca655f8b3c0f\n",
            "Successfully built pyspark\n",
            "Installing collected packages: py4j, pyspark\n",
            "Successfully installed py4j-0.10.9 pyspark-3.1.1\n",
            "The following additional packages will be installed:\n",
            "  openjdk-8-jre-headless\n",
            "Suggested packages:\n",
            "  openjdk-8-demo openjdk-8-source libnss-mdns fonts-dejavu-extra\n",
            "  fonts-ipafont-gothic fonts-ipafont-mincho fonts-wqy-microhei\n",
            "  fonts-wqy-zenhei fonts-indic\n",
            "The following NEW packages will be installed:\n",
            "  openjdk-8-jdk-headless openjdk-8-jre-headless\n",
            "0 upgraded, 2 newly installed, 0 to remove and 31 not upgraded.\n",
            "Need to get 36.5 MB of archives.\n",
            "After this operation, 143 MB of additional disk space will be used.\n",
            "Selecting previously unselected package openjdk-8-jre-headless:amd64.\n",
            "(Reading database ... 160983 files and directories currently installed.)\n",
            "Preparing to unpack .../openjdk-8-jre-headless_8u282-b08-0ubuntu1~18.04_amd64.deb ...\n",
            "Unpacking openjdk-8-jre-headless:amd64 (8u282-b08-0ubuntu1~18.04) ...\n",
            "Selecting previously unselected package openjdk-8-jdk-headless:amd64.\n",
            "Preparing to unpack .../openjdk-8-jdk-headless_8u282-b08-0ubuntu1~18.04_amd64.deb ...\n",
            "Unpacking openjdk-8-jdk-headless:amd64 (8u282-b08-0ubuntu1~18.04) ...\n",
            "Setting up openjdk-8-jre-headless:amd64 (8u282-b08-0ubuntu1~18.04) ...\n",
            "update-alternatives: using /usr/lib/jvm/java-8-openjdk-amd64/jre/bin/orbd to provide /usr/bin/orbd (orbd) in auto mode\n",
            "update-alternatives: using /usr/lib/jvm/java-8-openjdk-amd64/jre/bin/servertool to provide /usr/bin/servertool (servertool) in auto mode\n",
            "update-alternatives: using /usr/lib/jvm/java-8-openjdk-amd64/jre/bin/tnameserv to provide /usr/bin/tnameserv (tnameserv) in auto mode\n",
            "Setting up openjdk-8-jdk-headless:amd64 (8u282-b08-0ubuntu1~18.04) ...\n",
            "update-alternatives: using /usr/lib/jvm/java-8-openjdk-amd64/bin/idlj to provide /usr/bin/idlj (idlj) in auto mode\n",
            "update-alternatives: using /usr/lib/jvm/java-8-openjdk-amd64/bin/wsimport to provide /usr/bin/wsimport (wsimport) in auto mode\n",
            "update-alternatives: using /usr/lib/jvm/java-8-openjdk-amd64/bin/jsadebugd to provide /usr/bin/jsadebugd (jsadebugd) in auto mode\n",
            "update-alternatives: using /usr/lib/jvm/java-8-openjdk-amd64/bin/native2ascii to provide /usr/bin/native2ascii (native2ascii) in auto mode\n",
            "update-alternatives: using /usr/lib/jvm/java-8-openjdk-amd64/bin/javah to provide /usr/bin/javah (javah) in auto mode\n",
            "update-alternatives: using /usr/lib/jvm/java-8-openjdk-amd64/bin/hsdb to provide /usr/bin/hsdb (hsdb) in auto mode\n",
            "update-alternatives: using /usr/lib/jvm/java-8-openjdk-amd64/bin/clhsdb to provide /usr/bin/clhsdb (clhsdb) in auto mode\n",
            "update-alternatives: using /usr/lib/jvm/java-8-openjdk-amd64/bin/xjc to provide /usr/bin/xjc (xjc) in auto mode\n",
            "update-alternatives: using /usr/lib/jvm/java-8-openjdk-amd64/bin/schemagen to provide /usr/bin/schemagen (schemagen) in auto mode\n",
            "update-alternatives: using /usr/lib/jvm/java-8-openjdk-amd64/bin/extcheck to provide /usr/bin/extcheck (extcheck) in auto mode\n",
            "update-alternatives: using /usr/lib/jvm/java-8-openjdk-amd64/bin/jhat to provide /usr/bin/jhat (jhat) in auto mode\n",
            "update-alternatives: using /usr/lib/jvm/java-8-openjdk-amd64/bin/wsgen to provide /usr/bin/wsgen (wsgen) in auto mode\n"
          ],
          "name": "stdout"
        }
      ]
    },
    {
      "cell_type": "code",
      "metadata": {
        "id": "zdu1F0Wqbnyd"
      },
      "source": [
        "from pydrive.auth import GoogleAuth\n",
        "from pydrive.drive import GoogleDrive\n",
        "from google.colab import auth\n",
        "from oauth2client.client import GoogleCredentials\n",
        "\n",
        "# Authenticate and create the PyDrive client\n",
        "auth.authenticate_user()\n",
        "gauth = GoogleAuth()\n",
        "gauth.credentials = GoogleCredentials.get_application_default()\n",
        "drive = GoogleDrive(gauth)"
      ],
      "execution_count": null,
      "outputs": []
    },
    {
      "cell_type": "code",
      "metadata": {
        "id": "0dddUqAlcF1g"
      },
      "source": [
        "# Let's import the libraries we will need\n",
        "import pandas as pd\n",
        "import numpy as np\n",
        "import matplotlib.pyplot as plt\n",
        "%matplotlib inline\n",
        "\n",
        "import pyspark\n",
        "from pyspark.sql import *\n",
        "from pyspark.sql.functions import *\n",
        "from pyspark import SparkContext"
      ],
      "execution_count": null,
      "outputs": []
    },
    {
      "cell_type": "code",
      "metadata": {
        "id": "etFlALjlcKbF"
      },
      "source": [
        "sc = SparkContext.getOrCreate()\n",
        "sc.stop()\n",
        "\n",
        "# create the Spark Session\n",
        "spark = SparkSession.builder.getOrCreate()\n",
        "\n",
        "# create the Spark Context\n",
        "sc = spark.sparkContext"
      ],
      "execution_count": null,
      "outputs": []
    },
    {
      "cell_type": "markdown",
      "metadata": {
        "id": "QczrfVEIcoML"
      },
      "source": [
        "### Problem 1 -- Spark"
      ]
    },
    {
      "cell_type": "code",
      "metadata": {
        "colab": {
          "base_uri": "https://localhost:8080/"
        },
        "id": "7Z0E62fdUV6h",
        "outputId": "95068672-cc4c-47aa-8182-6c73888b4ecf"
      },
      "source": [
        "lines = sc.textFile(\"soc-LiveJournal1Adj.txt\")\n",
        "lines.take(5)"
      ],
      "execution_count": null,
      "outputs": [
        {
          "output_type": "execute_result",
          "data": {
            "text/plain": [
              "['0\\t1,2,3,4,5,6,7,8,9,10,11,12,13,14,15,16,17,18,19,20,21,22,23,24,25,26,27,28,29,30,31,32,33,34,35,36,37,38,39,40,41,42,43,44,45,46,47,48,49,50,51,52,53,54,55,56,57,58,59,60,61,62,63,64,65,66,67,68,69,70,71,72,73,74,75,76,77,78,79,80,81,82,83,84,85,86,87,88,89,90,91,92,93,94',\n",
              " '1\\t0,5,20,135,2409,8715,8932,10623,12347,12846,13840,13845,14005,20075,21556,22939,23520,28193,29724,29791,29826,30691,31232,31435,32317,32489,34394,35589,35605,35606,35613,35633,35648,35678,38737,43447,44846,44887,49226,49985,623,629,4999,6156,13912,14248,15190,17636,19217,20074,27536,29481,29726,29767,30257,33060,34250,34280,34392,34406,34418,34420,34439,34450,34651,45054,49592',\n",
              " '2\\t0,117,135,1220,2755,12453,24539,24714,41456,45046,49927,6893,13795,16659,32828,41878',\n",
              " '3\\t0,12,41,55,1532,12636,13185,27552,38737',\n",
              " '4\\t0,8,14,15,18,27,72,80,15326,19068,19079,24596,42697,46126,74,77,33269,38792,38822']"
            ]
          },
          "metadata": {
            "tags": []
          },
          "execution_count": 34
        }
      ]
    },
    {
      "cell_type": "code",
      "metadata": {
        "colab": {
          "base_uri": "https://localhost:8080/"
        },
        "id": "-qvbPKxHg4oL",
        "outputId": "439f086b-c1b2-4dde-8151-8c52cb10238f"
      },
      "source": [
        "split = lines.map(lambda line: line.split())\n",
        "split.take(5)"
      ],
      "execution_count": null,
      "outputs": [
        {
          "output_type": "execute_result",
          "data": {
            "text/plain": [
              "[['0',\n",
              "  '1,2,3,4,5,6,7,8,9,10,11,12,13,14,15,16,17,18,19,20,21,22,23,24,25,26,27,28,29,30,31,32,33,34,35,36,37,38,39,40,41,42,43,44,45,46,47,48,49,50,51,52,53,54,55,56,57,58,59,60,61,62,63,64,65,66,67,68,69,70,71,72,73,74,75,76,77,78,79,80,81,82,83,84,85,86,87,88,89,90,91,92,93,94'],\n",
              " ['1',\n",
              "  '0,5,20,135,2409,8715,8932,10623,12347,12846,13840,13845,14005,20075,21556,22939,23520,28193,29724,29791,29826,30691,31232,31435,32317,32489,34394,35589,35605,35606,35613,35633,35648,35678,38737,43447,44846,44887,49226,49985,623,629,4999,6156,13912,14248,15190,17636,19217,20074,27536,29481,29726,29767,30257,33060,34250,34280,34392,34406,34418,34420,34439,34450,34651,45054,49592'],\n",
              " ['2',\n",
              "  '0,117,135,1220,2755,12453,24539,24714,41456,45046,49927,6893,13795,16659,32828,41878'],\n",
              " ['3', '0,12,41,55,1532,12636,13185,27552,38737'],\n",
              " ['4',\n",
              "  '0,8,14,15,18,27,72,80,15326,19068,19079,24596,42697,46126,74,77,33269,38792,38822']]"
            ]
          },
          "metadata": {
            "tags": []
          },
          "execution_count": 35
        }
      ]
    },
    {
      "cell_type": "code",
      "metadata": {
        "id": "DiRq3ByVx6ul"
      },
      "source": [
        "def make_network(line):\n",
        "  splitted = line.split()\n",
        "  ID = int(splitted[0])\n",
        "  if len(splitted) == 1:\n",
        "    friends = []\n",
        "  else:\n",
        "    friend_list = splitted[1].split(\",\")\n",
        "    friends = list(map(lambda x: int(x), friend_list))\n",
        "  return ID, friends"
      ],
      "execution_count": null,
      "outputs": []
    },
    {
      "cell_type": "code",
      "metadata": {
        "id": "tB8GN8S_yMOJ"
      },
      "source": [
        "def make_list_of_mutuals(network):\n",
        "    ID = network[0]\n",
        "    friends = network[1]\n",
        "\n",
        "    mutual_friends = []\n",
        "\n",
        "  # ID is a friend with every one in a friends list -> 0 sign\n",
        "  # Have one mutual friend - ID -> 1 sign\n",
        "    for friend1 in friends:\n",
        "        min_ID = np.min([ID, friend1])\n",
        "        max_ID = np.max([ID, friend1])\n",
        "        mutual_friends.append(((min_ID, max_ID), 0))\n",
        "\n",
        "        for friend2 in friends:\n",
        "            if friend1 != friend2:\n",
        "              min_friend = np.min([friend1, friend2])\n",
        "              max_friend = np.max([friend1, friend2])\n",
        "              mutual_friends.append(((min_friend, max_friend), 1))  \n",
        "\n",
        "    return mutual_friends"
      ],
      "execution_count": null,
      "outputs": []
    },
    {
      "cell_type": "code",
      "metadata": {
        "id": "Q4c-2XbKNK8D"
      },
      "source": [
        "def top_sort(friends_list):\n",
        "  if len(friends_list) > 10:\n",
        "    sort = sorted(friends_list, key = lambda x : (- x[1], x[0]))[:10] #only top 10\n",
        "  else:\n",
        "    sort = sorted(friends_list, key = lambda x : (- x[1], x[0]))\n",
        "  top_10 = list(map(lambda x: x[0], sort))\n",
        "  return top_10"
      ],
      "execution_count": null,
      "outputs": []
    },
    {
      "cell_type": "code",
      "metadata": {
        "id": "YjdRQXb3zha7"
      },
      "source": [
        "network = lines.map(make_network)"
      ],
      "execution_count": null,
      "outputs": []
    },
    {
      "cell_type": "code",
      "metadata": {
        "colab": {
          "base_uri": "https://localhost:8080/"
        },
        "id": "Zlqx-iWKzhgG",
        "outputId": "490b5722-439a-496c-e551-5fcefc38e3dc"
      },
      "source": [
        "mutual_friends = network.flatMap(make_list_of_mutuals)\n",
        "mutual_friends.cache()\n",
        "# mutual_friends.take(5)"
      ],
      "execution_count": null,
      "outputs": [
        {
          "output_type": "execute_result",
          "data": {
            "text/plain": [
              "PythonRDD[4] at RDD at PythonRDD.scala:53"
            ]
          },
          "metadata": {
            "tags": []
          },
          "execution_count": 40
        }
      ]
    },
    {
      "cell_type": "code",
      "metadata": {
        "id": "nzA5laFmzhkN"
      },
      "source": [
        "# Filter out the ones that are already friends:\n",
        "filtered_mutual_friends = mutual_friends.groupByKey() \\\n",
        "                                        .mapValues(list) \\\n",
        "                                        .filter(lambda count: 0 not in count[1])\n",
        "# filtered_mutual_friends.take(5)"
      ],
      "execution_count": null,
      "outputs": []
    },
    {
      "cell_type": "code",
      "metadata": {
        "id": "r_m7x4aIzhoD"
      },
      "source": [
        "# Count the number od mutual friends:\n",
        "count_mutual_friends = filtered_mutual_friends.map(lambda pair: (pair[0], np.sum(pair[1])))\n",
        "# count_mutual_friends.take(5)"
      ],
      "execution_count": null,
      "outputs": []
    },
    {
      "cell_type": "code",
      "metadata": {
        "id": "yiq5WfZ9G_-e"
      },
      "source": [
        "# Rearange the data so that we can group by key, where keys are all people in the network\n",
        "\n",
        "friend_recommendations = count_mutual_friends.flatMap(lambda pair: [(pair[0][0], (pair[0][1], pair[1])), (pair[0][1], (pair[0][0], pair[1]))])\n",
        "# friend_recommendations.take(5)"
      ],
      "execution_count": null,
      "outputs": []
    },
    {
      "cell_type": "code",
      "metadata": {
        "id": "s-bHM0vdIktz"
      },
      "source": [
        "all_connections = friend_recommendations.groupByKey().mapValues(list)"
      ],
      "execution_count": null,
      "outputs": []
    },
    {
      "cell_type": "code",
      "metadata": {
        "id": "qBs8Cg6qO1ea"
      },
      "source": [
        "top_10 = all_connections.map(lambda f: (f[0], top_sort(list(f[1]))))"
      ],
      "execution_count": null,
      "outputs": []
    },
    {
      "cell_type": "code",
      "metadata": {
        "id": "yaBarZjOoeGc"
      },
      "source": [
        "# top_10.coalesce(1).saveAsTextFile(\"top_10_recommendations.txt\")"
      ],
      "execution_count": null,
      "outputs": []
    },
    {
      "cell_type": "code",
      "metadata": {
        "id": "Dye5pDMFBV65"
      },
      "source": [
        "l = top_10.collect()"
      ],
      "execution_count": null,
      "outputs": []
    },
    {
      "cell_type": "code",
      "metadata": {
        "id": "wq_2ISsK9TYr"
      },
      "source": [
        "l_sorted = sorted(l, key = lambda x : x[0])"
      ],
      "execution_count": null,
      "outputs": []
    },
    {
      "cell_type": "code",
      "metadata": {
        "id": "ZnQwMIXw98mF"
      },
      "source": [
        "f = open(\"top10_recommendations.txt\", \"w\")\n",
        "for element in l_sorted:\n",
        "  f.write(str(element[0]) + \"\\t\" + \",\".join([str(el) for el in element[1]]) + \"\\n\")\n",
        "f.close()"
      ],
      "execution_count": null,
      "outputs": []
    },
    {
      "cell_type": "markdown",
      "metadata": {
        "id": "MXqpEMmTYe_g"
      },
      "source": [
        "### Problem 2 -- Association Rules"
      ]
    },
    {
      "cell_type": "code",
      "metadata": {
        "colab": {
          "base_uri": "https://localhost:8080/"
        },
        "id": "8yyUniXUYi9z",
        "outputId": "b95b9df6-63ab-4b02-bfc2-75082449e150"
      },
      "source": [
        "lines = sc.textFile(\"browsing.txt\")\n",
        "lines.take(5)"
      ],
      "execution_count": null,
      "outputs": [
        {
          "output_type": "execute_result",
          "data": {
            "text/plain": [
              "['FRO11987 ELE17451 ELE89019 SNA90258 GRO99222 ',\n",
              " 'GRO99222 GRO12298 FRO12685 ELE91550 SNA11465 ELE26917 ELE52966 FRO90334 SNA30755 ELE17451 FRO84225 SNA80192 ',\n",
              " 'ELE17451 GRO73461 DAI22896 SNA99873 FRO86643 ',\n",
              " 'ELE17451 ELE37798 FRO86643 GRO56989 ELE23393 SNA11465 ',\n",
              " 'ELE17451 SNA69641 FRO86643 FRO78087 SNA11465 GRO39357 ELE28573 ELE11375 DAI54444 ']"
            ]
          },
          "metadata": {
            "tags": []
          },
          "execution_count": 5
        }
      ]
    },
    {
      "cell_type": "code",
      "metadata": {
        "colab": {
          "base_uri": "https://localhost:8080/"
        },
        "id": "lSrm2N0jZJuF",
        "outputId": "61388bad-53dc-4851-9733-fbb46e2930f3"
      },
      "source": [
        "baskets = lines.map(lambda line: line.split())\n",
        "baskets.take(1)"
      ],
      "execution_count": null,
      "outputs": [
        {
          "output_type": "execute_result",
          "data": {
            "text/plain": [
              "[['FRO11987', 'ELE17451', 'ELE89019', 'SNA90258', 'GRO99222']]"
            ]
          },
          "metadata": {
            "tags": []
          },
          "execution_count": 8
        }
      ]
    },
    {
      "cell_type": "code",
      "metadata": {
        "id": "3r0kcu2eZPJl"
      },
      "source": [
        "def createC1(data):\n",
        "    \"\"\"\n",
        "    Create a list of unique items in transaction data.\n",
        "    Represent each item as a set of length 1.\n",
        "    \"\"\"\n",
        "    C1 = []\n",
        "    for transaction in data:\n",
        "        for item in transaction:\n",
        "            if not [item] in C1:\n",
        "                C1.append([item])\n",
        "    C1.sort()\n",
        "    \n",
        "    # create a set for each item in C1\n",
        "    return [set(x) for x in C1]"
      ],
      "execution_count": null,
      "outputs": []
    },
    {
      "cell_type": "code",
      "metadata": {
        "id": "5qO9AddWZd6k"
      },
      "source": [
        "def createCk(Lk, k):\n",
        "    \"\"\"\n",
        "    Create a list of candidates of length k.\n",
        "    \n",
        "    Arguments:\n",
        "       Lk: a list of frequent itemsets\n",
        "       k: the size of the itemsets\n",
        "    \n",
        "    \"\"\"\n",
        "    cand_list = []\n",
        "    len_Lk = len(Lk)\n",
        "    \n",
        "    # join sets if first k-2 items are equal\n",
        "    for i in range(len_Lk):\n",
        "        for j in range(i+1, len_Lk):\n",
        "            L1 = list(Lk[i])[:k-2]\n",
        "            L2 = list(Lk[j])[:k-2]\n",
        "            L1.sort()\n",
        "            L2.sort()\n",
        "            if L1==L2:\n",
        "                cand_list.append(Lk[i] | Lk[j])\n",
        "    \n",
        "    return cand_list"
      ],
      "execution_count": null,
      "outputs": []
    },
    {
      "cell_type": "code",
      "metadata": {
        "id": "Pm7QrdZqZolB"
      },
      "source": [
        "def scanD(data, Ck, min_support):\n",
        "    \"\"\"\n",
        "    Scan through transaction data and return a list of candidates that meet\n",
        "    the support threshold, and support data about the current candidates.\n",
        "    \n",
        "    Arguments:\n",
        "       data: data set,\n",
        "       Ck: a list of candidate sets\n",
        "       min_support: the minimum support\n",
        "    \"\"\"\n",
        "    count = {}\n",
        "    for transaction in data:\n",
        "        tr = set(transaction)\n",
        "        for candidate in Ck:\n",
        "            if candidate.issubset(tr):\n",
        "                can = frozenset(candidate)\n",
        "                if can not in count:\n",
        "                    count[can] = 1\n",
        "                else:\n",
        "                    count[can] += 1\n",
        "                    num_items = float(len(D))\n",
        "    \n",
        "    cand_list = []\n",
        "    support_data = {}\n",
        "    \n",
        "    # calculate support for every itemset\n",
        "    for key in count:\n",
        "        support = count[key]\n",
        "        \n",
        "        # If the support meets the minimum support requirements, \n",
        "        # add it to the list of itemsets.\n",
        "        if support >= min_support:\n",
        "            cand_list.insert(0, key)\n",
        "        support_data[key] = support\n",
        "    \n",
        "    return cand_list, support_data\n",
        "  "
      ],
      "execution_count": null,
      "outputs": []
    },
    {
      "cell_type": "code",
      "metadata": {
        "id": "Hz9Ovz_Bei_i"
      },
      "source": [
        "def confidence(elem):\n",
        "    lst=[]\n",
        "    conf1 = elem[1]/(freq_pair_counts.filter(lambda x: x[0]==elem[0][0]).collect())[0][1]\n",
        "    conf2 = elem[1]/(freq_items_counts.filter(lambda x: x[0]==elem[0][1]).collect())[0][1]\n",
        "    lst.append(((elem[0],elem[1]),conf1))\n",
        "    lst.append(((elem[1],elem[0]),conf2))\n",
        "    return(lst)"
      ],
      "execution_count": null,
      "outputs": []
    },
    {
      "cell_type": "code",
      "metadata": {
        "id": "5DCffUi5dD-H"
      },
      "source": [
        "min_support = 100"
      ],
      "execution_count": null,
      "outputs": []
    },
    {
      "cell_type": "code",
      "metadata": {
        "id": "7X8Fu54sdSYs"
      },
      "source": [
        "data = baskets.collect()"
      ],
      "execution_count": null,
      "outputs": []
    },
    {
      "cell_type": "code",
      "metadata": {
        "id": "WmncPMcwdKE5"
      },
      "source": [
        "C1 = createC1(data)"
      ],
      "execution_count": null,
      "outputs": []
    },
    {
      "cell_type": "code",
      "metadata": {
        "id": "P2d_hCdzdUY2"
      },
      "source": [
        "D = list(map(set, data))"
      ],
      "execution_count": null,
      "outputs": []
    },
    {
      "cell_type": "code",
      "metadata": {
        "id": "VU8VUnNkdxlu"
      },
      "source": [
        "L1, support_data1 = scanD(D, C1, min_support)"
      ],
      "execution_count": null,
      "outputs": []
    },
    {
      "cell_type": "code",
      "metadata": {
        "id": "eMrr6W3Zd0oz"
      },
      "source": [
        "C2 = createCk(L1, k=2)"
      ],
      "execution_count": null,
      "outputs": []
    },
    {
      "cell_type": "code",
      "metadata": {
        "id": "rlG2Q--4fQ0n"
      },
      "source": [
        "L2, support_data2 = scanD(D, C2, min_support)"
      ],
      "execution_count": null,
      "outputs": []
    },
    {
      "cell_type": "code",
      "metadata": {
        "colab": {
          "base_uri": "https://localhost:8080/"
        },
        "id": "q_d8osMyqM61",
        "outputId": "540ba9e1-94f1-4f8d-abef-75450cf49ecc"
      },
      "source": [
        "len(L1)"
      ],
      "execution_count": null,
      "outputs": [
        {
          "output_type": "execute_result",
          "data": {
            "text/plain": [
              "647"
            ]
          },
          "metadata": {
            "tags": []
          },
          "execution_count": 82
        }
      ]
    },
    {
      "cell_type": "code",
      "metadata": {
        "id": "suwThpYKj9IG"
      },
      "source": [
        "def conf2(L1, L2, support_data1, support_data2):\n",
        "  \"\"\"\n",
        "  returns the list with elements\n",
        "    ((X, Y), conf(X -> Y)) \n",
        "  for all pairs in L2\n",
        "  \"\"\"\n",
        "  scores = []\n",
        "  for pair in L2:\n",
        "    supp_XY = support_data2[pair] \n",
        "    X = list(pair)[0]\n",
        "    Y = list(pair)[1]\n",
        "    supp_X = support_data1[frozenset({X})]\n",
        "    supp_Y = support_data1[frozenset({Y})]\n",
        "    scores.append([[X, Y], supp_XY / supp_X])\n",
        "    scores.append([[Y, X], supp_XY / supp_Y])\n",
        "  return scores"
      ],
      "execution_count": null,
      "outputs": []
    },
    {
      "cell_type": "code",
      "metadata": {
        "id": "2ZRRosq4nXU1"
      },
      "source": [
        "scores2 = conf2(L1, L2, support_data1, support_data2)"
      ],
      "execution_count": null,
      "outputs": []
    },
    {
      "cell_type": "code",
      "metadata": {
        "id": "6lnO_6RzncoS"
      },
      "source": [
        "sorted_scores2 = sorted(scores2, key = lambda x : x[1], reverse = True)"
      ],
      "execution_count": null,
      "outputs": []
    },
    {
      "cell_type": "code",
      "metadata": {
        "colab": {
          "base_uri": "https://localhost:8080/"
        },
        "id": "TU9FVQCapp3_",
        "outputId": "7983c4fc-af2e-4ffe-bcc6-68ee0bb7ccc4"
      },
      "source": [
        "sorted_scores2[:5]"
      ],
      "execution_count": null,
      "outputs": [
        {
          "output_type": "execute_result",
          "data": {
            "text/plain": [
              "[[['DAI93865', 'FRO40251'], 1.0],\n",
              " [['GRO85051', 'FRO40251'], 0.999176276771005],\n",
              " [['GRO38636', 'FRO40251'], 0.9906542056074766],\n",
              " [['ELE12951', 'FRO40251'], 0.9905660377358491],\n",
              " [['DAI88079', 'FRO40251'], 0.9867256637168141]]"
            ]
          },
          "metadata": {
            "tags": []
          },
          "execution_count": 232
        }
      ]
    },
    {
      "cell_type": "code",
      "metadata": {
        "id": "IGjBg64Np5Tp"
      },
      "source": [
        "C3 = createCk(L2, k=3)"
      ],
      "execution_count": null,
      "outputs": []
    },
    {
      "cell_type": "code",
      "metadata": {
        "colab": {
          "base_uri": "https://localhost:8080/"
        },
        "id": "LWTrESagzY5Y",
        "outputId": "adda43ff-6e51-4145-ed6c-e27a63c122a0"
      },
      "source": [
        "L3, support_data3 = scanD(D, C3, min_support)\n",
        "len(L3)"
      ],
      "execution_count": null,
      "outputs": [
        {
          "output_type": "execute_result",
          "data": {
            "text/plain": [
              "233"
            ]
          },
          "metadata": {
            "tags": []
          },
          "execution_count": 91
        }
      ]
    },
    {
      "cell_type": "code",
      "metadata": {
        "id": "q_uVsvUCzbLp"
      },
      "source": [
        "def conf3(L1, L2, L3, support_data1, support_data2, support_data3):\n",
        "  \"\"\"\n",
        "  returns the list with elements\n",
        "    (((X, Y), Z), conf((X, Y) -> Z) \n",
        "  for all pairs in L2\n",
        "  \"\"\"\n",
        "  scores = []\n",
        "  for tripple in L3:\n",
        "    supp_XYZ = support_data3[tripple] \n",
        "    X = list(tripple)[0]\n",
        "    Y = list(tripple)[1]\n",
        "    Z = list(tripple)[2]\n",
        "    supp_XY = support_data2[frozenset({X, Y})]\n",
        "    supp_XZ = support_data2[frozenset({X, Z})]\n",
        "    supp_YZ = support_data2[frozenset({Y, Z})]\n",
        "    scores.append([[sorted((X, Y)), Z], supp_XYZ / supp_XY])\n",
        "    scores.append([[sorted((X, Z)), Y], supp_XYZ / supp_XZ])\n",
        "    scores.append([[sorted((Y, Z)), X], supp_XYZ / supp_YZ])\n",
        "  return scores"
      ],
      "execution_count": null,
      "outputs": []
    },
    {
      "cell_type": "code",
      "metadata": {
        "id": "RUhWQi9g9rFu"
      },
      "source": [
        "scores3 = conf3(L1, L2, L3, support_data1, support_data2, support_data3)"
      ],
      "execution_count": null,
      "outputs": []
    },
    {
      "cell_type": "code",
      "metadata": {
        "id": "syHd_GQS95WV"
      },
      "source": [
        "sorted_scores3 = sorted(scores3, key = lambda x : (- x[1], x[0][0][0], x[0][0][1]))"
      ],
      "execution_count": null,
      "outputs": []
    },
    {
      "cell_type": "code",
      "metadata": {
        "colab": {
          "base_uri": "https://localhost:8080/"
        },
        "id": "6siIR_ql-LVP",
        "outputId": "ad4c6dd7-38c8-497d-8512-ae21fb475146"
      },
      "source": [
        "sorted_scores3[:5]"
      ],
      "execution_count": null,
      "outputs": [
        {
          "output_type": "execute_result",
          "data": {
            "text/plain": [
              "[[[['DAI23334', 'ELE92920'], 'DAI62779'], 1.0],\n",
              " [[['DAI31081', 'GRO85051'], 'FRO40251'], 1.0],\n",
              " [[['DAI55911', 'GRO85051'], 'FRO40251'], 1.0],\n",
              " [[['DAI62779', 'DAI88079'], 'FRO40251'], 1.0],\n",
              " [[['DAI75645', 'GRO85051'], 'FRO40251'], 1.0]]"
            ]
          },
          "metadata": {
            "tags": []
          },
          "execution_count": 228
        }
      ]
    },
    {
      "cell_type": "markdown",
      "metadata": {
        "id": "DAftdMPKbQB-"
      },
      "source": [
        "### Problem 4 --  LSH for Approximate Near Neighbor Search"
      ]
    },
    {
      "cell_type": "markdown",
      "metadata": {
        "id": "QNMDFoAXLfu_"
      },
      "source": [
        "Can be found in file lsh.py"
      ]
    },
    {
      "cell_type": "code",
      "metadata": {
        "id": "I5ge8FjumTJC"
      },
      "source": [
        ""
      ],
      "execution_count": null,
      "outputs": []
    }
  ]
}