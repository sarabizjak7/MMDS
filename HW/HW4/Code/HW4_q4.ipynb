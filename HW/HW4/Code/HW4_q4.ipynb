{
  "nbformat": 4,
  "nbformat_minor": 0,
  "metadata": {
    "colab": {
      "name": "HW4_q4.ipynb",
      "provenance": [],
      "collapsed_sections": [],
      "toc_visible": true
    },
    "kernelspec": {
      "name": "python3",
      "display_name": "Python 3"
    },
    "language_info": {
      "name": "python"
    }
  },
  "cells": [
    {
      "cell_type": "code",
      "metadata": {
        "id": "-fmWcTfSXIzm"
      },
      "source": [
        "from pydrive.auth import GoogleAuth\n",
        "from pydrive.drive import GoogleDrive\n",
        "from google.colab import auth\n",
        "from oauth2client.client import GoogleCredentials\n",
        "\n",
        "# Authenticate and create the PyDrive client\n",
        "auth.authenticate_user()\n",
        "gauth = GoogleAuth()\n",
        "gauth.credentials = GoogleCredentials.get_application_default()\n",
        "drive = GoogleDrive(gauth)"
      ],
      "execution_count": 34,
      "outputs": []
    },
    {
      "cell_type": "code",
      "metadata": {
        "id": "L2CRzAcSXRyM"
      },
      "source": [
        "import pandas as pd\n",
        "import numpy as np\n",
        "import matplotlib.pyplot as plt\n",
        "from matplotlib.pyplot import figure\n",
        "%matplotlib inline\n",
        "\n",
        "from math import e, log, ceil, inf\n",
        "import numpy as np\n",
        "from numba import jit\n",
        "from time import time"
      ],
      "execution_count": 35,
      "outputs": []
    },
    {
      "cell_type": "markdown",
      "metadata": {
        "id": "wpAOCBNXYX4o"
      },
      "source": [
        "# Q4"
      ]
    },
    {
      "cell_type": "code",
      "metadata": {
        "id": "U0j6_nyyYY2I"
      },
      "source": [
        "delta = e ** (-5)\n",
        "eps = e * 1e-4\n",
        "p = 123457\n",
        "numHashes = ceil(log(1 / delta))\n",
        "numBuckets = ceil(e / eps)"
      ],
      "execution_count": 36,
      "outputs": []
    },
    {
      "cell_type": "code",
      "metadata": {
        "id": "rsK7-F57g-SD"
      },
      "source": [
        "def hash_function(a, b, x, p = 123457, n_Buckets = numBuckets):\n",
        "    return ((a * (x % p) + b) % p) % n_Buckets"
      ],
      "execution_count": 37,
      "outputs": []
    },
    {
      "cell_type": "code",
      "metadata": {
        "id": "oDZUp6Z-ZFlS"
      },
      "source": [
        "hash_params = []\n",
        "\n",
        "with open('hash_params.txt') as f:\n",
        "    for line in f:\n",
        "        p1, p2 = line.split()\n",
        "        hash_params.append((int(p1), int(p2)))"
      ],
      "execution_count": 38,
      "outputs": []
    },
    {
      "cell_type": "code",
      "metadata": {
        "id": "xv_0DdS3ZJi5"
      },
      "source": [
        "c = np.zeros((numHashes, numBuckets), dtype=int)"
      ],
      "execution_count": 41,
      "outputs": []
    },
    {
      "cell_type": "code",
      "metadata": {
        "id": "LA_jZICKZMZD"
      },
      "source": [
        "with open('words_stream.txt') as f:\n",
        "    #t = 0\n",
        "    for idx, wordID in enumerate(f):\n",
        "        for j in range(numHashes):\n",
        "            h = hash_function(hash_params[j][0], hash_params[j][1], int(wordID))\n",
        "            c[j, h] += 1\n",
        "t = idx"
      ],
      "execution_count": 42,
      "outputs": []
    },
    {
      "cell_type": "code",
      "metadata": {
        "id": "5PmQTyCEbORg"
      },
      "source": [
        "realCounts = {}\n",
        "with open('counts.txt') as f:\n",
        "    for line in f:\n",
        "        wordID, count = line.split()\n",
        "        realCounts[int(wordID)] = int(count)"
      ],
      "execution_count": 43,
      "outputs": []
    },
    {
      "cell_type": "code",
      "metadata": {
        "id": "NfU53rjoeUxd"
      },
      "source": [
        "hashCounts = {}\n",
        "for wordID in realCounts:\n",
        "    hashCount = inf\n",
        "    for j in range(numHashes):\n",
        "        h = h = hash_function(hash_params[j][0], hash_params[j][1], int(wordID))\n",
        "        cjh = c[j, h]\n",
        "        if cjh < hashCount:\n",
        "          hashCount = cjh\n",
        "    hashCounts[wordID] = hashCount"
      ],
      "execution_count": 44,
      "outputs": []
    },
    {
      "cell_type": "code",
      "metadata": {
        "id": "vLhf_iJneZrn"
      },
      "source": [
        "error = []\n",
        "exact = []\n",
        "for wordID, realCount in realCounts.items():\n",
        "    hashCount = hashCounts[wordID]\n",
        "    error.append((hashCount - realCount) / realCount)\n",
        "    exact.append(realCount / t)"
      ],
      "execution_count": 45,
      "outputs": []
    },
    {
      "cell_type": "code",
      "metadata": {
        "colab": {
          "base_uri": "https://localhost:8080/",
          "height": 353
        },
        "id": "Z5dzXmlteoxf",
        "outputId": "2c77cd38-0874-43b9-9385-26636f9ebc1e"
      },
      "source": [
        "plt.figure(figsize = (8, 5))\n",
        "plt.loglog(exact, error, '.', markersize=0.7)\n",
        "\n",
        "plt.xlabel('Frequency')\n",
        "plt.ylabel('Relative error')\n",
        "plt.title('Relative error as the function of the frequency')\n",
        "plt.savefig('4b.png')\n",
        "plt.show()"
      ],
      "execution_count": 53,
      "outputs": [
        {
          "output_type": "display_data",
          "data": {
            "image/png": "[encoded data removed]",
            "text/plain": [
              "<Figure size 576x360 with 1 Axes>"
            ]
          },
          "metadata": {
            "tags": [],
            "needs_background": "light"
          }
        }
      ]
    }
  ]
}