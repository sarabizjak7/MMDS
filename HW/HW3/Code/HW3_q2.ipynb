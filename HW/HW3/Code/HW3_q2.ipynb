{
  "nbformat": 4,
  "nbformat_minor": 0,
  "metadata": {
    "colab": {
      "name": "HW3_q2.ipynb",
      "provenance": [],
      "collapsed_sections": [],
      "toc_visible": true
    },
    "kernelspec": {
      "name": "python3",
      "display_name": "Python 3"
    },
    "language_info": {
      "name": "python"
    }
  },
  "cells": [
    {
      "cell_type": "code",
      "metadata": {
        "colab": {
          "base_uri": "https://localhost:8080/"
        },
        "id": "wNYrfpbP2avQ",
        "outputId": "6ebb35fe-25ad-4008-d17b-db5b69ea8912"
      },
      "source": [
        "# pyspark --conf “spark.ui.port=10101”\n",
        "\n",
        "!pip install pyspark\n",
        "!pip install -U -q PyDrive\n",
        "!apt install openjdk-8-jdk-headless -qq\n",
        "import os\n",
        "os.environ[\"JAVA_HOME\"] = \"/usr/lib/jvm/java-8-openjdk-amd64\""
      ],
      "execution_count": 45,
      "outputs": [
        {
          "output_type": "stream",
          "text": [
            "Requirement already satisfied: pyspark in /usr/local/lib/python3.7/dist-packages (3.1.1)\n",
            "Requirement already satisfied: py4j==0.10.9 in /usr/local/lib/python3.7/dist-packages (from pyspark) (0.10.9)\n",
            "openjdk-8-jdk-headless is already the newest version (8u292-b10-0ubuntu1~18.04).\n",
            "The following package was automatically installed and is no longer required:\n",
            "  libnvidia-common-460\n",
            "Use 'apt autoremove' to remove it.\n",
            "0 upgraded, 0 newly installed, 0 to remove and 34 not upgraded.\n"
          ],
          "name": "stdout"
        }
      ]
    },
    {
      "cell_type": "code",
      "metadata": {
        "id": "Rx5aGZ2F2huk"
      },
      "source": [
        "from pydrive.auth import GoogleAuth\n",
        "from pydrive.drive import GoogleDrive\n",
        "from google.colab import auth\n",
        "from oauth2client.client import GoogleCredentials\n",
        "\n",
        "# Authenticate and create the PyDrive client\n",
        "auth.authenticate_user()\n",
        "gauth = GoogleAuth()\n",
        "gauth.credentials = GoogleCredentials.get_application_default()\n",
        "drive = GoogleDrive(gauth)"
      ],
      "execution_count": 46,
      "outputs": []
    },
    {
      "cell_type": "code",
      "metadata": {
        "id": "pH6pwNcW2jZd"
      },
      "source": [
        "# Let's import the libraries we will need\n",
        "import pandas as pd\n",
        "import numpy as np\n",
        "from numpy import linalg\n",
        "import matplotlib.pyplot as plt\n",
        "%matplotlib inline\n",
        "\n",
        "import pyspark\n",
        "from pyspark.sql import *\n",
        "from pyspark.sql.functions import *\n",
        "from pyspark import SparkContext\n",
        "from pyspark.sql.functions import monotonically_increasing_id"
      ],
      "execution_count": 47,
      "outputs": []
    },
    {
      "cell_type": "code",
      "metadata": {
        "id": "FLhvGgKo2lf_"
      },
      "source": [
        "sc = SparkContext.getOrCreate()\n",
        "sc.stop()\n",
        "\n",
        "# create the Spark Session\n",
        "spark = SparkSession.builder.getOrCreate()\n",
        "\n",
        "# create the Spark Context\n",
        "sc = spark.sparkContext"
      ],
      "execution_count": 48,
      "outputs": []
    },
    {
      "cell_type": "markdown",
      "metadata": {
        "id": "3QSOnTYK2n5N"
      },
      "source": [
        "# Problem 2"
      ]
    },
    {
      "cell_type": "markdown",
      "metadata": {
        "id": "45_sA7z72rXQ"
      },
      "source": [
        "## Page rank implementation"
      ]
    },
    {
      "cell_type": "code",
      "metadata": {
        "id": "DFijN5gvZfXl"
      },
      "source": [
        "def make_data(line):\n",
        "  splitted = line.split()\n",
        "  node1 = int(splitted[0])\n",
        "  node2 = int(splitted[1])\n",
        "  return node1, node2\n",
        "  \n",
        "def generateM(x):\n",
        "\t\tsrc, dist_list = x\n",
        "\t\tdeg = len(dist_list)\n",
        "\t\treturn [(dist, src, 1./deg) for dist in dist_list]\n",
        "\n",
        "def generateL(x):\n",
        "\t\tsrc, dist_list = x\n",
        "\t\treturn [(dist, src, 1) for dist in dist_list]\n",
        "\n",
        "def unique(lst):\n",
        "  unique_lst = []\n",
        "  for element in lst[1]:\n",
        "    if element not in unique_lst:\n",
        "      unique_lst.append(element)\n",
        "  return lst[0], unique_lst"
      ],
      "execution_count": 328,
      "outputs": []
    },
    {
      "cell_type": "code",
      "metadata": {
        "id": "64k8arhC_2ml"
      },
      "source": [
        "beta = 0.8\n",
        "n = 1000"
      ],
      "execution_count": 341,
      "outputs": []
    },
    {
      "cell_type": "code",
      "metadata": {
        "id": "IeACVCz62p6J"
      },
      "source": [
        "lines = sc.textFile(\"graph-full.txt\")"
      ],
      "execution_count": 342,
      "outputs": []
    },
    {
      "cell_type": "code",
      "metadata": {
        "id": "W2nLrizK9A7o"
      },
      "source": [
        "data = lines.map(make_data)\n",
        "data = data.groupByKey().mapValues(list)"
      ],
      "execution_count": 343,
      "outputs": []
    },
    {
      "cell_type": "code",
      "metadata": {
        "id": "Nw9xHODWaI5b"
      },
      "source": [
        "data = data.map(lambda x: unique(x))"
      ],
      "execution_count": 344,
      "outputs": []
    },
    {
      "cell_type": "code",
      "metadata": {
        "id": "qrxSE4RY5eQq"
      },
      "source": [
        "M = data.flatMap(lambda x: generateM(x))\t"
      ],
      "execution_count": 233,
      "outputs": []
    },
    {
      "cell_type": "code",
      "metadata": {
        "id": "l2n1T6M8DESV"
      },
      "source": [
        "r = [1/n for _ in range(n)]"
      ],
      "execution_count": 199,
      "outputs": []
    },
    {
      "cell_type": "code",
      "metadata": {
        "id": "epSnS8lTAEp6"
      },
      "source": [
        "for _ in range(40):\n",
        "\tmuliplications = M.map(lambda x: (x[0], x[2] * r[int(x[1]) - 1]))\n",
        "\tr_rdd = muliplications.reduceByKey(lambda x1, x2: x1 + x2)\n",
        "\tr_rdd = r_rdd.map(lambda x: (x[0], beta * x[1] + (1 - beta) / n))\n",
        "  # Update r\n",
        "\tr = r_rdd.sortBy(lambda x: x[0]).map(lambda x: x[1]).collect()"
      ],
      "execution_count": 200,
      "outputs": []
    },
    {
      "cell_type": "code",
      "metadata": {
        "id": "QTqQUU2RTjFK"
      },
      "source": [
        "R = []\n",
        "for i in range(1, n + 1):\n",
        "  R.append((i, r[i - 1])) "
      ],
      "execution_count": 201,
      "outputs": []
    },
    {
      "cell_type": "code",
      "metadata": {
        "id": "PHhcBXR0A2K0"
      },
      "source": [
        "R_sorted = sorted(R, key = lambda x : x[1])"
      ],
      "execution_count": 202,
      "outputs": []
    },
    {
      "cell_type": "code",
      "metadata": {
        "id": "zOR-o5FtVG8x"
      },
      "source": [
        "bottom = R_sorted[:5]\n",
        "top = R_sorted[-5:][::-1]"
      ],
      "execution_count": 206,
      "outputs": []
    },
    {
      "cell_type": "code",
      "metadata": {
        "colab": {
          "base_uri": "https://localhost:8080/"
        },
        "id": "VgDLTPeZVwve",
        "outputId": "711411bf-f894-47b1-91c5-e847862939ed"
      },
      "source": [
        "bottom"
      ],
      "execution_count": 207,
      "outputs": [
        {
          "output_type": "execute_result",
          "data": {
            "text/plain": [
              "[(558, 0.0003286018525215297),\n",
              " (93, 0.0003513568937516577),\n",
              " (62, 0.00035314810510596274),\n",
              " (424, 0.0003548153864930145),\n",
              " (408, 0.00038779848719291705)]"
            ]
          },
          "metadata": {
            "tags": []
          },
          "execution_count": 207
        }
      ]
    },
    {
      "cell_type": "code",
      "metadata": {
        "colab": {
          "base_uri": "https://localhost:8080/"
        },
        "id": "cODiaFz4XLjO",
        "outputId": "f071068e-e5af-41c7-95b1-95a8128eb81f"
      },
      "source": [
        "top"
      ],
      "execution_count": 208,
      "outputs": [
        {
          "output_type": "execute_result",
          "data": {
            "text/plain": [
              "[(263, 0.0020202911815182184),\n",
              " (537, 0.0019433415714531497),\n",
              " (965, 0.0019254478071662631),\n",
              " (243, 0.0018526340162417312),\n",
              " (285, 0.0018273721700645144)]"
            ]
          },
          "metadata": {
            "tags": []
          },
          "execution_count": 208
        }
      ]
    },
    {
      "cell_type": "markdown",
      "metadata": {
        "id": "1mBUPipMdABX"
      },
      "source": [
        "# HITS implementation"
      ]
    },
    {
      "cell_type": "code",
      "metadata": {
        "id": "oaCD5jkIdCgs"
      },
      "source": [
        "lam = 1\n",
        "mi = 1\n",
        "n = 1000\n",
        "h = [1 for _ in range(n)]"
      ],
      "execution_count": 345,
      "outputs": []
    },
    {
      "cell_type": "code",
      "metadata": {
        "id": "WXXnBRJodlvR"
      },
      "source": [
        "L = data.flatMap(lambda x: generateL(x))\t"
      ],
      "execution_count": 346,
      "outputs": []
    },
    {
      "cell_type": "code",
      "metadata": {
        "id": "I21EfhQOq7zv"
      },
      "source": [
        "L_transpose = L.map(lambda x: (x[1], x[0], 1))"
      ],
      "execution_count": 347,
      "outputs": []
    },
    {
      "cell_type": "code",
      "metadata": {
        "id": "66V8u1D1d6ot"
      },
      "source": [
        "for _ in range(40):\n",
        "  muliplications_a = L_transpose.map(lambda x: (x[0], x[2] * h[int(x[1]) - 1]))\n",
        "  a_rdd = muliplications_a.reduceByKey(lambda x1, x2: x1 + x2)\n",
        "  a = a_rdd.sortBy(lambda x: x[0]).map(lambda x: x[1]).collect()\n",
        "  # Normalization\n",
        "  max_a = np.max(a)\n",
        "  a = np.array(a) * (1/max_a)\n",
        "\n",
        "  multiplications_h = L.map(lambda x: (x[0], x[2] * a[int(x[1]) - 1]))\n",
        "  h_rdd = multiplications_h.reduceByKey(lambda x1, x2: x1 + x2)\n",
        "  h = h_rdd.sortBy(lambda x: x[0]).map(lambda x: x[1]).collect()\n",
        "  # Normalization\n",
        "  max_h = np.max(h)\n",
        "  h = np.array(h) * (1/max_h)"
      ],
      "execution_count": 348,
      "outputs": []
    },
    {
      "cell_type": "code",
      "metadata": {
        "id": "b1u6zR_hd7Q5"
      },
      "source": [
        "A = []\n",
        "for i in range(1, n + 1):\n",
        "  A.append((i, a[i - 1])) "
      ],
      "execution_count": 349,
      "outputs": []
    },
    {
      "cell_type": "code",
      "metadata": {
        "id": "uENijeZOngUk"
      },
      "source": [
        "H = []\n",
        "for i in range(1, n + 1):\n",
        "  H.append((i, h[i - 1])) "
      ],
      "execution_count": 350,
      "outputs": []
    },
    {
      "cell_type": "code",
      "metadata": {
        "id": "bU5HUuY0nikV"
      },
      "source": [
        "A_sorted = sorted(A, key = lambda x : x[1])\n",
        "H_sorted = sorted(H, key = lambda x : x[1])"
      ],
      "execution_count": 351,
      "outputs": []
    },
    {
      "cell_type": "code",
      "metadata": {
        "id": "DHBbrMxHnnBw"
      },
      "source": [
        "bottom_a = A_sorted[:5]\n",
        "top_a = A_sorted[-5:][::-1]\n",
        "bottom_h = H_sorted[:5]\n",
        "top_h = H_sorted[-5:][::-1]"
      ],
      "execution_count": 352,
      "outputs": []
    },
    {
      "cell_type": "code",
      "metadata": {
        "colab": {
          "base_uri": "https://localhost:8080/"
        },
        "id": "bHZ0pe1Vo0ey",
        "outputId": "5b48143c-7fa6-4299-e52b-2fc90173fb01"
      },
      "source": [
        "bottom_a"
      ],
      "execution_count": 353,
      "outputs": [
        {
          "output_type": "execute_result",
          "data": {
            "text/plain": [
              "[(23, 0.042066854890936534),\n",
              " (835, 0.057790593544330145),\n",
              " (141, 0.06453117646225179),\n",
              " (539, 0.06602659373418492),\n",
              " (889, 0.07678413939216452)]"
            ]
          },
          "metadata": {
            "tags": []
          },
          "execution_count": 353
        }
      ]
    },
    {
      "cell_type": "code",
      "metadata": {
        "colab": {
          "base_uri": "https://localhost:8080/"
        },
        "id": "2j2llfdko5Ch",
        "outputId": "f32cbe2b-f2a4-44fb-a82d-eabf3fbc9377"
      },
      "source": [
        "top_a"
      ],
      "execution_count": 354,
      "outputs": [
        {
          "output_type": "execute_result",
          "data": {
            "text/plain": [
              "[(840, 1.0),\n",
              " (155, 0.9499618624906543),\n",
              " (234, 0.8986645288972263),\n",
              " (389, 0.863417110184379),\n",
              " (472, 0.8632841092495217)]"
            ]
          },
          "metadata": {
            "tags": []
          },
          "execution_count": 354
        }
      ]
    },
    {
      "cell_type": "code",
      "metadata": {
        "colab": {
          "base_uri": "https://localhost:8080/"
        },
        "id": "TZ_wURuTo79d",
        "outputId": "8cd7adbb-a73f-4f03-8a7d-99e68c6ee171"
      },
      "source": [
        "bottom_h"
      ],
      "execution_count": 355,
      "outputs": [
        {
          "output_type": "execute_result",
          "data": {
            "text/plain": [
              "[(19, 0.05608316377607617),\n",
              " (135, 0.06653910487622793),\n",
              " (462, 0.07544228624641901),\n",
              " (24, 0.08171239406816944),\n",
              " (910, 0.08571673456144877)]"
            ]
          },
          "metadata": {
            "tags": []
          },
          "execution_count": 355
        }
      ]
    },
    {
      "cell_type": "code",
      "metadata": {
        "colab": {
          "base_uri": "https://localhost:8080/"
        },
        "id": "HUHwZtRSo9ko",
        "outputId": "1db966e0-7a2d-49bd-a4ae-14c91eda9e15"
      },
      "source": [
        "top_h"
      ],
      "execution_count": 356,
      "outputs": [
        {
          "output_type": "execute_result",
          "data": {
            "text/plain": [
              "[(893, 0.9999999999999999),\n",
              " (16, 0.9635572849634398),\n",
              " (799, 0.9510158161074014),\n",
              " (146, 0.9246703586198444),\n",
              " (473, 0.8998661973604049)]"
            ]
          },
          "metadata": {
            "tags": []
          },
          "execution_count": 356
        }
      ]
    },
    {
      "cell_type": "code",
      "metadata": {
        "id": "-yTdCq9Jpozi"
      },
      "source": [
        ""
      ],
      "execution_count": null,
      "outputs": []
    }
  ]
}